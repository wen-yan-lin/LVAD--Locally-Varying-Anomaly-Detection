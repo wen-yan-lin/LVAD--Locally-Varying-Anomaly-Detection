{
 "cells": [
  {
   "cell_type": "code",
   "execution_count": 2,
   "id": "560afe47",
   "metadata": {},
   "outputs": [
    {
     "name": "stdout",
     "output_type": "stream",
     "text": [
      "Dataset: mnist\n",
      "AUROC of LVAD: 0.987270184985734\n",
      "AUROC of OCSVM: 0.9723249920744395\n"
     ]
    }
   ],
   "source": [
    "import sys \n",
    "sys.path.append(\"source_code/\")\n",
    "from examples import simple_example\n",
    "\n",
    "simple_example(data_set = 5, interest_class = 0, anomaly_percentage = 10)"
   ]
  },
  {
   "cell_type": "code",
   "execution_count": 3,
   "id": "69cafb17",
   "metadata": {
    "scrolled": true
   },
   "outputs": [
    {
     "name": "stdout",
     "output_type": "stream",
     "text": [
      "Dataset: STL-10\n",
      "AUROC of LVAD: 0.9909260355029587\n",
      "AUROC of OCSVM: 0.9565917159763315\n"
     ]
    }
   ],
   "source": [
    "simple_example(data_set = 1, interest_class = 0, anomaly_percentage = 20)\n"
   ]
  },
  {
   "cell_type": "code",
   "execution_count": 4,
   "id": "57a52a98",
   "metadata": {},
   "outputs": [
    {
     "name": "stdout",
     "output_type": "stream",
     "text": [
      "Dataset: fake-stl10\n",
      "AUROC of LVAD: 0.981487137943399\n",
      "AUROC of OCSVM: 0.9535202990743569\n"
     ]
    }
   ],
   "source": [
    "simple_example(data_set = 2, interest_class = 0, anomaly_percentage = 20)\n"
   ]
  },
  {
   "cell_type": "code",
   "execution_count": 5,
   "id": "8a9da513",
   "metadata": {},
   "outputs": [
    {
     "name": "stdout",
     "output_type": "stream",
     "text": [
      "Dataset: MIT-Places-Small\n",
      "AUROC of LVAD: 0.9623247509106575\n",
      "AUROC of OCSVM: 0.8221591786921163\n"
     ]
    }
   ],
   "source": [
    "simple_example(data_set = 3, interest_class = 0, anomaly_percentage = 20)\n"
   ]
  },
  {
   "cell_type": "code",
   "execution_count": null,
   "id": "4afc4e57",
   "metadata": {},
   "outputs": [
    {
     "name": "stdout",
     "output_type": "stream",
     "text": [
      "Dataset: dogvscat\n",
      "AUROC of LVAD: 0.9460270400000002\n"
     ]
    }
   ],
   "source": [
    "simple_example(data_set = 4, interest_class = 0, anomaly_percentage = 20)\n"
   ]
  }
 ],
 "metadata": {
  "kernelspec": {
   "display_name": "Python 3 (ipykernel)",
   "language": "python",
   "name": "python3"
  },
  "language_info": {
   "codemirror_mode": {
    "name": "ipython",
    "version": 3
   },
   "file_extension": ".py",
   "mimetype": "text/x-python",
   "name": "python",
   "nbconvert_exporter": "python",
   "pygments_lexer": "ipython3",
   "version": "3.10.4"
  },
  "vscode": {
   "interpreter": {
    "hash": "31f2aee4e71d21fbe5cf8b01ff0e069b9275f58929596ceb00d14d90e3e16cd6"
   }
  }
 },
 "nbformat": 4,
 "nbformat_minor": 5
}

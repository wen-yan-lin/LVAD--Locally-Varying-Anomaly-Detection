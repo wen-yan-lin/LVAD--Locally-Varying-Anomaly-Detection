{
 "cells": [
  {
   "cell_type": "code",
   "execution_count": 26,
   "id": "560afe47",
   "metadata": {},
   "outputs": [
    {
     "ename": "ModuleNotFoundError",
     "evalue": "No module named 'examples'",
     "output_type": "error",
     "traceback": [
      "\u001b[0;31m---------------------------------------------------------------------------\u001b[0m",
      "\u001b[0;31mModuleNotFoundError\u001b[0m                       Traceback (most recent call last)",
      "Input \u001b[0;32mIn [26]\u001b[0m, in \u001b[0;36m<cell line: 5>\u001b[0;34m()\u001b[0m\n\u001b[1;32m      1\u001b[0m \u001b[38;5;28;01mimport\u001b[39;00m \u001b[38;5;21;01msys\u001b[39;00m \n\u001b[1;32m      3\u001b[0m sys\u001b[38;5;241m.\u001b[39mpath\u001b[38;5;241m.\u001b[39mappend(\u001b[38;5;124m\"\u001b[39m\u001b[38;5;124m../source_code\u001b[39m\u001b[38;5;124m\"\u001b[39m)\n\u001b[0;32m----> 5\u001b[0m \u001b[38;5;28;01mfrom\u001b[39;00m \u001b[38;5;21;01mexamples\u001b[39;00m \u001b[38;5;28;01mimport\u001b[39;00m simple_example\n\u001b[1;32m      6\u001b[0m \u001b[38;5;66;03m#from source_code.examples import simple_example\u001b[39;00m\n\u001b[1;32m      8\u001b[0m simple_example(data_set \u001b[38;5;241m=\u001b[39m \u001b[38;5;241m5\u001b[39m, interest_class \u001b[38;5;241m=\u001b[39m \u001b[38;5;241m0\u001b[39m, anomaly_percentage \u001b[38;5;241m=\u001b[39m \u001b[38;5;241m10\u001b[39m)\n",
      "\u001b[0;31mModuleNotFoundError\u001b[0m: No module named 'examples'"
     ]
    }
   ],
   "source": [
    "import sys \n",
    "\n",
    "sys.path.append(\"../source_code\")\n",
    "\n",
    "from examples import simple_example\n",
    "#from source_code.examples import simple_example\n",
    "\n",
    "simple_example(data_set = 5, interest_class = 0, anomaly_percentage = 10)"
   ]
  },
  {
   "cell_type": "code",
   "execution_count": null,
   "id": "69cafb17",
   "metadata": {},
   "outputs": [],
   "source": [
    "simple_example(data_set = 1, interest_class = 0, anomaly_percentage = 20)"
   ]
  },
  {
   "cell_type": "code",
   "execution_count": null,
   "id": "57a52a98",
   "metadata": {},
   "outputs": [],
   "source": []
  }
 ],
 "metadata": {
  "kernelspec": {
   "display_name": "Python 3 (ipykernel)",
   "language": "python",
   "name": "python3"
  },
  "language_info": {
   "codemirror_mode": {
    "name": "ipython",
    "version": 3
   },
   "file_extension": ".py",
   "mimetype": "text/x-python",
   "name": "python",
   "nbconvert_exporter": "python",
   "pygments_lexer": "ipython3",
   "version": "3.10.4"
  },
  "vscode": {
   "interpreter": {
    "hash": "31f2aee4e71d21fbe5cf8b01ff0e069b9275f58929596ceb00d14d90e3e16cd6"
   }
  }
 },
 "nbformat": 4,
 "nbformat_minor": 5
}

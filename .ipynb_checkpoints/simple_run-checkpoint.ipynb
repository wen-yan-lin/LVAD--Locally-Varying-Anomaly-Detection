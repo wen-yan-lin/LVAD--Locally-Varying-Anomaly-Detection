{
 "cells": [
  {
   "cell_type": "code",
   "execution_count": 5,
   "id": "f8c248f8-c915-481d-9a4a-fa177cbe70ba",
   "metadata": {},
   "outputs": [],
   "source": [
    "from main import simple_example\n"
   ]
  },
  {
   "cell_type": "code",
   "execution_count": 6,
   "id": "81235c58",
   "metadata": {},
   "outputs": [
    {
     "name": "stdout",
     "output_type": "stream",
     "text": [
      "Data-set: mnist\n"
     ]
    },
    {
     "ename": "UnboundLocalError",
     "evalue": "local variable 'LVAD' referenced before assignment",
     "output_type": "error",
     "traceback": [
      "\u001b[0;31m---------------------------------------------------------------------------\u001b[0m",
      "\u001b[0;31mUnboundLocalError\u001b[0m                         Traceback (most recent call last)",
      "Input \u001b[0;32mIn [6]\u001b[0m, in \u001b[0;36m<cell line: 1>\u001b[0;34m()\u001b[0m\n\u001b[0;32m----> 1\u001b[0m \u001b[43msimple_example\u001b[49m\u001b[43m(\u001b[49m\u001b[43mdata_set\u001b[49m\u001b[43m \u001b[49m\u001b[38;5;241;43m=\u001b[39;49m\u001b[43m \u001b[49m\u001b[38;5;241;43m5\u001b[39;49m\u001b[43m,\u001b[49m\u001b[43m \u001b[49m\u001b[43minterest_class\u001b[49m\u001b[43m \u001b[49m\u001b[38;5;241;43m=\u001b[39;49m\u001b[43m \u001b[49m\u001b[38;5;241;43m5\u001b[39;49m\u001b[43m,\u001b[49m\u001b[43m \u001b[49m\u001b[43manomaly_percentage\u001b[49m\u001b[43m \u001b[49m\u001b[38;5;241;43m=\u001b[39;49m\u001b[43m \u001b[49m\u001b[38;5;241;43m0.1\u001b[39;49m\u001b[43m)\u001b[49m\n",
      "File \u001b[0;32m~/Work/anon_final/code_final/main.py:20\u001b[0m, in \u001b[0;36msimple_example\u001b[0;34m(data_set, interest_class, anomaly_percentage)\u001b[0m\n\u001b[1;32m     17\u001b[0m y_data \u001b[38;5;241m=\u001b[39m np\u001b[38;5;241m.\u001b[39mconcatenate([y_train, y_test])\n\u001b[1;32m     19\u001b[0m data, gt \u001b[38;5;241m=\u001b[39m build_eval_set(x_data, y_data, interest_class, anomaly_percentage)\n\u001b[0;32m---> 20\u001b[0m LVAD \u001b[38;5;241m=\u001b[39m NormalizedAnomalyDetector(clf \u001b[38;5;241m=\u001b[39m \u001b[43mLVAD\u001b[49m(max_num_clus \u001b[38;5;241m=\u001b[39m \u001b[38;5;241m1000\u001b[39m))\n\u001b[1;32m     21\u001b[0m LVAD\u001b[38;5;241m.\u001b[39mfit(data)\n\u001b[1;32m     22\u001b[0m score \u001b[38;5;241m=\u001b[39m LVAD\u001b[38;5;241m.\u001b[39mscore_samples(data)\n",
      "\u001b[0;31mUnboundLocalError\u001b[0m: local variable 'LVAD' referenced before assignment"
     ]
    }
   ],
   "source": [
    "simple_example(data_set = 5, interest_class = 5, anomaly_percentage = 0.1)"
   ]
  },
  {
   "cell_type": "code",
   "execution_count": null,
   "id": "06c32bc4",
   "metadata": {},
   "outputs": [],
   "source": [
    "\n",
    "\n",
    "class NormalizedOneClassLearner():\n",
    "    \n",
    "    def __init__(self, a):\n",
    "        pass\n",
    "\n",
    "learner = NormalizedOneClassLearner(6)\n",
    "learner"
   ]
  },
  {
   "cell_type": "code",
   "execution_count": null,
   "id": "eac593fe",
   "metadata": {},
   "outputs": [],
   "source": [
    "\n",
    "\n",
    "\n",
    "class NormalizedOneClassLearner():\n",
    "    \n",
    "    def __init__(self,\n",
    "                clf = BayesClusterLearner(num_clus=300),\n",
    "                norm = InstanceNormalization()):\n",
    "        self.clf = clf\n",
    "        self.norm = norm\n",
    "        \n",
    "    def fit(self, data):\n",
    "        self.norm.fit(data)\n",
    "        data_ = self.norm.transform(data)\n",
    "        self.clf.fit(data_)\n",
    "    \n",
    "    def score_samples(self, data):       \n",
    "        data_ = self.norm.transform(data)\n",
    "        return self.clf.score_samples(data_)\n",
    "\n",
    "ind = 5\n",
    "eval_data = x_train[y_train==ind]\n",
    "\n",
    "    \n",
    "learner = NormalizedOneClassLearner(clf = BayesClusterLearner(num_clus=300))\n",
    "learner.fit(eval_data)\n",
    "scores = learner.score_samples(eval_data)\n",
    "ranking = np.argsort(scores)\n"
   ]
  },
  {
   "cell_type": "code",
   "execution_count": null,
   "id": "bd014830",
   "metadata": {},
   "outputs": [],
   "source": [
    "from display_mnist_errors import display_minst\n",
    "\n",
    "display_minst(eval_data[ranking][:25], num_rows=5, show_im=True);\n"
   ]
  },
  {
   "cell_type": "code",
   "execution_count": null,
   "id": "253079e6",
   "metadata": {},
   "outputs": [],
   "source": [
    "from display_mnist_errors import display_minst\n",
    "\n",
    "print('LVAD')\n",
    "our_score_ind = scores[image_ind]\n",
    "our_rerank = np.argsort(our_score_ind)\n",
    "image_ind_ours = image_ind[our_rerank]\n",
    "display_minst(eval_data[image_ind_ours], num_rows=5, show_im=True);"
   ]
  },
  {
   "cell_type": "code",
   "execution_count": null,
   "id": "55070cf0-5489-4e81-a7d0-78673e348ca0",
   "metadata": {},
   "outputs": [],
   "source": [
    "ind = 5\n",
    "eval_data = x_train[y_train==ind]\n",
    "clf = NormalizedBayesClusterLearner(num_clus = 300, norm = InstanceNormalization(), display_time=True)\n",
    "clf.fit(eval_data)\n",
    "scores = clf.score_samples(eval_data)\n",
    "ranking = np.argsort(scores)\n"
   ]
  },
  {
   "cell_type": "code",
   "execution_count": null,
   "id": "031a4897-4516-4c8b-815d-17e53a2360a9",
   "metadata": {},
   "outputs": [],
   "source": [
    "clf_ocsvm = NormalizedOcsvmLearner(norm = InstanceNormalization())\n",
    "clf_ocsvm.fit(eval_data)\n",
    "scores_ocsvm = clf_ocsvm.score_samples(eval_data)\n",
    "ranking_ocsvm = np.argsort(scores_ocsvm)\n"
   ]
  },
  {
   "cell_type": "code",
   "execution_count": null,
   "id": "87fa6c61-e5b6-40f7-a893-b1aa39f09a94",
   "metadata": {},
   "outputs": [],
   "source": [
    "from display_mnist_errors import display_minst\n",
    "eval_data[ranking]\n",
    "print('normal instances')\n",
    "display_minst(eval_data[ranking][-25:], num_rows=5, show_im=True);\n"
   ]
  },
  {
   "cell_type": "code",
   "execution_count": null,
   "id": "4b1c694a-53c6-4502-a249-bd5155e0e61e",
   "metadata": {},
   "outputs": [],
   "source": [
    "print('ocsvm')\n",
    "steps = eval_data.shape[0] // 25 + 1\n",
    "image_ind = ranking_ocsvm[range(0,eval_data.shape[0], steps)]\n",
    "display_minst(eval_data[image_ind], num_rows=5, show_im=True);"
   ]
  },
  {
   "cell_type": "code",
   "execution_count": null,
   "id": "b61f21c2-f4ff-40a2-962b-159f66174d51",
   "metadata": {},
   "outputs": [],
   "source": [
    "print('LVAD')\n",
    "our_score_ind = scores[image_ind]\n",
    "our_rerank = np.argsort(our_score_ind)\n",
    "image_ind_ours = image_ind[our_rerank]\n",
    "display_minst(eval_data[image_ind_ours], num_rows=5, show_im=True);"
   ]
  },
  {
   "cell_type": "code",
   "execution_count": null,
   "id": "7ffb12b9-f0de-4a6e-b776-2bcfe41b829d",
   "metadata": {},
   "outputs": [],
   "source": [
    "print('displaying progressively less anomlous instances')\n",
    "image_ind = ranking[range(0,eval_data.shape[0], steps)]\n",
    "display_minst(eval_data[image_ind], num_rows=5, show_im=True);"
   ]
  },
  {
   "cell_type": "code",
   "execution_count": null,
   "id": "46a959e5-12ca-49bd-b6ab-2577d14b4d82",
   "metadata": {},
   "outputs": [],
   "source": [
    "print('displaying progressively less anomlous instances')\n",
    "display_minst(eval_data[ranking][:25], num_rows=5, show_im=True);"
   ]
  },
  {
   "cell_type": "code",
   "execution_count": null,
   "id": "b315fea9-0bbc-46e1-96c8-1013ff614faf",
   "metadata": {},
   "outputs": [],
   "source": [
    "display_minst(eval_data[ranking][1000:1025], num_rows=5, show_im=True);"
   ]
  },
  {
   "cell_type": "code",
   "execution_count": null,
   "id": "af6902f0-4781-4844-afef-8427b70cec76",
   "metadata": {},
   "outputs": [],
   "source": [
    "display_minst(eval_data[ranking][2000:2025], num_rows=5, show_im=True);"
   ]
  },
  {
   "cell_type": "code",
   "execution_count": null,
   "id": "5ca81ca1-088b-4f1c-bafd-e25bb71fb0e0",
   "metadata": {},
   "outputs": [],
   "source": [
    "display_minst(eval_data[ranking][3000:3025], num_rows=5, show_im=True);"
   ]
  },
  {
   "cell_type": "code",
   "execution_count": null,
   "id": "711acafe-5783-4210-94b8-6a15c2991b0f",
   "metadata": {},
   "outputs": [],
   "source": [
    "display_minst(eval_data[ranking][4000:4025], num_rows=5, show_im=True);"
   ]
  },
  {
   "cell_type": "code",
   "execution_count": null,
   "id": "7d841ce1-b538-48b8-bc25-e239463ef710",
   "metadata": {},
   "outputs": [],
   "source": [
    "display_minst(eval_data[ranking][5000:5025], num_rows=5, show_im=True);"
   ]
  },
  {
   "cell_type": "code",
   "execution_count": null,
   "id": "e1c35818-3e60-43fc-9c27-c7ad32d55773",
   "metadata": {},
   "outputs": [],
   "source": [
    "display_minst(eval_data[ranking][6000:6025], num_rows=5, show_im=True);"
   ]
  },
  {
   "cell_type": "code",
   "execution_count": null,
   "id": "d65c3e08-6369-4e83-8798-776beec8c6db",
   "metadata": {},
   "outputs": [],
   "source": [
    "display_minst(eval_data[ranking][-25:], num_rows=5, show_im=True);"
   ]
  },
  {
   "cell_type": "code",
   "execution_count": null,
   "id": "77c3701d-a439-4eea-93a7-49acf9afa138",
   "metadata": {},
   "outputs": [],
   "source": []
  }
 ],
 "metadata": {
  "kernelspec": {
   "display_name": "Python 3 (ipykernel)",
   "language": "python",
   "name": "python3"
  },
  "language_info": {
   "codemirror_mode": {
    "name": "ipython",
    "version": 3
   },
   "file_extension": ".py",
   "mimetype": "text/x-python",
   "name": "python",
   "nbconvert_exporter": "python",
   "pygments_lexer": "ipython3",
   "version": "3.10.4"
  }
 },
 "nbformat": 4,
 "nbformat_minor": 5
}

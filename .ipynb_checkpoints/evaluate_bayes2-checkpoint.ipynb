{
 "cells": [
  {
   "cell_type": "code",
   "execution_count": 1,
   "metadata": {},
   "outputs": [
    {
     "name": "stdout",
     "output_type": "stream",
     "text": [
      "Data-set: mnist\n",
      "Number of classes: 10\n"
     ]
    }
   ],
   "source": [
    "import numpy as np\n",
    "from dataLoader import importData\n",
    "\n",
    "\n",
    "data_set = 5\n",
    "percentage_anomalies = [0.1, 1, 10, 20, 30]\n",
    "\n",
    "x_train, y_train, x_test, y_test, dataset_name = importData(data_set)\n",
    "#x_train, x_test = pca_transform(x_train, x_test)\n",
    "\n",
    "x_train = np.concatenate([x_train, x_test], axis=0)\n",
    "y_train = np.concatenate([y_train, y_test])\n",
    "num_class = np.max(y_train) + 1\n",
    "print('Number of classes:', num_class)"
   ]
  },
  {
   "cell_type": "code",
   "execution_count": 2,
   "metadata": {},
   "outputs": [],
   "source": [
    "store_folder = '../stored_results/'"
   ]
  },
  {
   "cell_type": "code",
   "execution_count": 3,
   "metadata": {},
   "outputs": [],
   "source": [
    "import random\n",
    "from shell_anon import NormalizedClusterLearner\n",
    "from normalization import InstanceNormalization, ErgoNormalization, NaiveNormalization, NoNormalization, PreTrainedNormalization\n",
    "from sklearn.metrics import roc_auc_score, average_precision_score, pairwise_distances\n",
    "\n",
    "\n",
    "def build_eval_set(x_train, y_train, ind, p_anon):\n",
    "    x_in = x_train[y_train==ind]\n",
    "    x_out = x_train[y_train!=ind]\n",
    "    random.shuffle(x_out)\n",
    "\n",
    "    num_out = int(p_anon/100 * x_in.shape[0])\n",
    "    data = np.concatenate([x_in, x_out[:num_out]], axis=0)\n",
    "    gt = np.zeros(data.shape[0], dtype=int)\n",
    "    gt[:data.shape[0] -num_out] = 1\n",
    "    \n",
    "    return data, gt\n",
    "\n",
    "\n",
    "\n",
    "class AnonEvaluationStatistics():\n",
    "    def __init__(self, \n",
    "                 percentiles =[0.1, 1, 10, 20, 30], \n",
    "                 name = 'unnamed'):\n",
    "        self.percentiles = percentiles\n",
    "        self.name = name\n",
    "        self.auroc = None\n",
    "        self.auprc = None\n",
    "        self.mean_auroc = None\n",
    "        self.mean_auprc = None\n",
    "    \n",
    "    \n",
    "    def eval(self, x_train, y_train, clf, print_summary=True):\n",
    "        num_class = np.max(y_train) + 1\n",
    "        \n",
    "        auroc_scores = np.zeros([num_class, len(self.percentiles)])\n",
    "        auprc_scores = np.zeros([num_class, len(self.percentiles)])\n",
    "\n",
    "        for class_num in range(num_class):\n",
    "            for anon_ind, p_anon in enumerate(self.percentiles):\n",
    "                data, gt = build_eval_set(x_train, y_train, class_num, p_anon)\n",
    "                \n",
    "                clf.fit(data)\n",
    "                score = clf.score_samples(data)\n",
    "                auroc = roc_auc_score(gt, score)\n",
    "                auprc = average_precision_score(gt, score)\n",
    "\n",
    "                \n",
    "                auroc_scores[class_num, anon_ind] = auroc\n",
    "                auprc_scores[class_num, anon_ind] = auprc\n",
    "                \n",
    "                if print_summary:\n",
    "                    print('class:', class_num + 1, '/', num_class,\n",
    "                          ', anon percentage:', p_anon, \n",
    "                          ', auroc:', auroc)\n",
    "        \n",
    "        self.auroc = auroc_scores\n",
    "        self.auprc = auprc_scores\n",
    "                \n",
    "        self.mean_auroc = np.mean(auroc_scores, axis=0)\n",
    "        self.mean_auprc = np.mean(auprc_scores, axis=0)\n",
    "            \n",
    "\n",
    "\n",
    "                \n",
    "    \n",
    "# num_clus = 5\n",
    "# clf_ergo = NormalizedClusterLearner(num_clus = num_clus, norm = ErgoNormalization())\n",
    "# eval_name = dataset_name + '_naive_ergo_normalization_' + str(num_clus)\n",
    "# anon_eval = AnonEvaluationStatistics(name = eval_name)\n",
    "# anon_eval.eval(x_train, y_train, clf_ergo)\n",
    "    "
   ]
  },
  {
   "cell_type": "code",
   "execution_count": 4,
   "metadata": {},
   "outputs": [
    {
     "name": "stdout",
     "output_type": "stream",
     "text": [
      "class: 1 / 10 , anon percentage: 0.1 , auroc: 0.9948814525085712\n",
      "class: 1 / 10 , anon percentage: 1 , auroc: 0.9932123609352791\n",
      "class: 1 / 10 , anon percentage: 10 , auroc: 0.9868223645673904\n",
      "class: 1 / 10 , anon percentage: 20 , auroc: 0.976311286628162\n",
      "class: 1 / 10 , anon percentage: 30 , auroc: 0.9613044388038248\n",
      "class: 2 / 10 , anon percentage: 0.1 , auroc: 0.9977511380329712\n",
      "class: 2 / 10 , anon percentage: 1 , auroc: 0.9932536466115239\n",
      "class: 2 / 10 , anon percentage: 10 , auroc: 0.9910396488320508\n",
      "class: 2 / 10 , anon percentage: 20 , auroc: 0.9832441244450894\n",
      "class: 2 / 10 , anon percentage: 30 , auroc: 0.9683251554220409\n",
      "class: 3 / 10 , anon percentage: 0.1 , auroc: 0.9635431568907965\n",
      "class: 3 / 10 , anon percentage: 1 , auroc: 0.93129729841803\n",
      "class: 3 / 10 , anon percentage: 10 , auroc: 0.9151794613600872\n",
      "class: 3 / 10 , anon percentage: 20 , auroc: 0.8905753365220292\n",
      "class: 3 / 10 , anon percentage: 30 , auroc: 0.8552117167177309\n",
      "class: 4 / 10 , anon percentage: 0.1 , auroc: 0.9666313241442774\n",
      "class: 4 / 10 , anon percentage: 1 , auroc: 0.9543777156708632\n",
      "class: 4 / 10 , anon percentage: 10 , auroc: 0.9356332646488087\n",
      "class: 4 / 10 , anon percentage: 20 , auroc: 0.9257385351563956\n",
      "class: 4 / 10 , anon percentage: 30 , auroc: 0.9008404276615188\n",
      "class: 5 / 10 , anon percentage: 0.1 , auroc: 0.9995603751465416\n",
      "class: 5 / 10 , anon percentage: 1 , auroc: 0.9554858285635474\n",
      "class: 5 / 10 , anon percentage: 10 , auroc: 0.9300158488412468\n",
      "class: 5 / 10 , anon percentage: 20 , auroc: 0.9090202167268877\n",
      "class: 5 / 10 , anon percentage: 30 , auroc: 0.8887316726333279\n",
      "class: 6 / 10 , anon percentage: 0.1 , auroc: 0.9161518559586039\n",
      "class: 6 / 10 , anon percentage: 1 , auroc: 0.8130338253892824\n",
      "class: 6 / 10 , anon percentage: 10 , auroc: 0.8414056673234588\n",
      "class: 6 / 10 , anon percentage: 20 , auroc: 0.8301830072677239\n"
     ]
    },
    {
     "name": "stderr",
     "output_type": "stream",
     "text": [
      "/media/daniel/D/anon_paper_eccv/code/shell_anon.py:48: RuntimeWarning: divide by zero encountered in long_scalars\n",
      "  p_noty_div_p_y = mask.size / all_in_clus -1\n"
     ]
    },
    {
     "name": "stdout",
     "output_type": "stream",
     "text": [
      "class: 6 / 10 , anon percentage: 30 , auroc: 0.7986796210939635\n",
      "class: 7 / 10 , anon percentage: 0.1 , auroc: 0.9881471785922048\n",
      "class: 7 / 10 , anon percentage: 1 , auroc: 0.9790982274236046\n",
      "class: 7 / 10 , anon percentage: 10 , auroc: 0.9719686134841945\n"
     ]
    },
    {
     "name": "stderr",
     "output_type": "stream",
     "text": [
      "/media/daniel/D/anon_paper_eccv/code/shell_anon.py:48: RuntimeWarning: divide by zero encountered in long_scalars\n",
      "  p_noty_div_p_y = mask.size / all_in_clus -1\n"
     ]
    },
    {
     "name": "stdout",
     "output_type": "stream",
     "text": [
      "class: 7 / 10 , anon percentage: 20 , auroc: 0.9529530911206303\n"
     ]
    },
    {
     "name": "stderr",
     "output_type": "stream",
     "text": [
      "/media/daniel/D/anon_paper_eccv/code/shell_anon.py:48: RuntimeWarning: divide by zero encountered in long_scalars\n",
      "  p_noty_div_p_y = mask.size / all_in_clus -1\n"
     ]
    },
    {
     "name": "stdout",
     "output_type": "stream",
     "text": [
      "class: 7 / 10 , anon percentage: 30 , auroc: 0.9459286831888027\n",
      "class: 8 / 10 , anon percentage: 0.1 , auroc: 0.9775714481596833\n",
      "class: 8 / 10 , anon percentage: 1 , auroc: 0.9457261148437618\n"
     ]
    },
    {
     "name": "stderr",
     "output_type": "stream",
     "text": [
      "/media/daniel/D/anon_paper_eccv/code/shell_anon.py:48: RuntimeWarning: divide by zero encountered in long_scalars\n",
      "  p_noty_div_p_y = mask.size / all_in_clus -1\n"
     ]
    },
    {
     "name": "stdout",
     "output_type": "stream",
     "text": [
      "class: 8 / 10 , anon percentage: 10 , auroc: 0.9444977680271799\n"
     ]
    },
    {
     "name": "stderr",
     "output_type": "stream",
     "text": [
      "/media/daniel/D/anon_paper_eccv/code/shell_anon.py:48: RuntimeWarning: divide by zero encountered in long_scalars\n",
      "  p_noty_div_p_y = mask.size / all_in_clus -1\n"
     ]
    },
    {
     "name": "stdout",
     "output_type": "stream",
     "text": [
      "class: 8 / 10 , anon percentage: 20 , auroc: 0.9243832097862599\n",
      "class: 8 / 10 , anon percentage: 30 , auroc: 0.9079402357059099\n",
      "class: 9 / 10 , anon percentage: 0.1 , auroc: 0.9461782661782661\n",
      "class: 9 / 10 , anon percentage: 1 , auroc: 0.946431803490627\n",
      "class: 9 / 10 , anon percentage: 10 , auroc: 0.9096103896103895\n",
      "class: 9 / 10 , anon percentage: 20 , auroc: 0.9052102671443331\n"
     ]
    },
    {
     "name": "stderr",
     "output_type": "stream",
     "text": [
      "/media/daniel/D/anon_paper_eccv/code/shell_anon.py:48: RuntimeWarning: divide by zero encountered in long_scalars\n",
      "  p_noty_div_p_y = mask.size / all_in_clus -1\n"
     ]
    },
    {
     "name": "stdout",
     "output_type": "stream",
     "text": [
      "class: 9 / 10 , anon percentage: 30 , auroc: 0.9025399807813095\n",
      "class: 10 / 10 , anon percentage: 0.1 , auroc: 0.9933889048577178\n",
      "class: 10 / 10 , anon percentage: 1 , auroc: 0.9697522609778755\n",
      "class: 10 / 10 , anon percentage: 10 , auroc: 0.9554482082629383\n",
      "class: 10 / 10 , anon percentage: 20 , auroc: 0.9317253009687994\n"
     ]
    },
    {
     "name": "stderr",
     "output_type": "stream",
     "text": [
      "/media/daniel/D/anon_paper_eccv/code/shell_anon.py:48: RuntimeWarning: divide by zero encountered in long_scalars\n",
      "  p_noty_div_p_y = mask.size / all_in_clus -1\n"
     ]
    },
    {
     "name": "stdout",
     "output_type": "stream",
     "text": [
      "class: 10 / 10 , anon percentage: 30 , auroc: 0.9151941562441939\n"
     ]
    }
   ],
   "source": [
    "from shell_anon import NormalizedClusterLearner, NormalizedBayesClusterLearner\n",
    "\n",
    "num_clus = 300\n",
    "clf_ergo = NormalizedBayesClusterLearner(num_clus = num_clus, norm = InstanceNormalization())\n",
    "eval_name = dataset_name + '_bayes_instance_normalization_' + str(num_clus)\n",
    "anon_eval = AnonEvaluationStatistics(name = eval_name)\n",
    "anon_eval.eval(x_train, y_train, clf_ergo)\n",
    "    "
   ]
  },
  {
   "cell_type": "code",
   "execution_count": 7,
   "metadata": {},
   "outputs": [
    {
     "name": "stdout",
     "output_type": "stream",
     "text": [
      "[0.97438051 0.94816691 0.93816212 0.92293444 0.90446961]\n"
     ]
    }
   ],
   "source": [
    "print(anon_eval.mean_auroc)"
   ]
  },
  {
   "cell_type": "code",
   "execution_count": 5,
   "metadata": {},
   "outputs": [],
   "source": [
    "import pickle\n",
    "\n",
    "store_path = store_folder + '/' + eval_name + '.pickle'\n",
    "with open(store_path, 'wb') as file:\n",
    "    pickle.dump(anon_eval, file) \n"
   ]
  },
  {
   "cell_type": "code",
   "execution_count": 6,
   "metadata": {},
   "outputs": [],
   "source": [
    "with open(store_path, 'rb') as file:\n",
    "    b = pickle.load(file)"
   ]
  }
 ],
 "metadata": {
  "kernelspec": {
   "display_name": "Python 3",
   "language": "python",
   "name": "python3"
  },
  "language_info": {
   "codemirror_mode": {
    "name": "ipython",
    "version": 3
   },
   "file_extension": ".py",
   "mimetype": "text/x-python",
   "name": "python",
   "nbconvert_exporter": "python",
   "pygments_lexer": "ipython3",
   "version": "3.8.10"
  }
 },
 "nbformat": 4,
 "nbformat_minor": 5
}

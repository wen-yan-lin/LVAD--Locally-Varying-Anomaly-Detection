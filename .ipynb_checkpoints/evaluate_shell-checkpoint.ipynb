{
 "cells": [
  {
   "cell_type": "code",
   "execution_count": 1,
   "id": "bcbf53eb",
   "metadata": {},
   "outputs": [
    {
     "name": "stdout",
     "output_type": "stream",
     "text": [
      "Data-set: MIT-Places-Small\n",
      "Number of classes: 5\n"
     ]
    }
   ],
   "source": [
    "import numpy as np\n",
    "from dataLoader import importData\n",
    "\n",
    "\n",
    "data_set = 1\n",
    "percentage_anomalies = [0.1, 1, 10, 20, 30]\n",
    "\n",
    "x_train, y_train, x_test, y_test, dataset_name = importData(data_set)\n",
    "#x_train, x_test = pca_transform(x_train, x_test)\n",
    "\n",
    "x_train = np.concatenate([x_train, x_test], axis=0)\n",
    "y_train = np.concatenate([y_train, y_test])\n",
    "num_class = np.max(y_train) + 1\n",
    "print('Number of classes:', num_class)"
   ]
  },
  {
   "cell_type": "code",
   "execution_count": 2,
   "id": "509c8777",
   "metadata": {},
   "outputs": [],
   "source": [
    "store_folder = '../stored_results/'"
   ]
  },
  {
   "cell_type": "code",
   "execution_count": 3,
   "id": "a8e8f90a",
   "metadata": {},
   "outputs": [],
   "source": [
    "import random\n",
    "from shell_anon import NormalizedClusterLearner\n",
    "from normalization import InstanceNormalization, ErgoNormalization, NaiveNormalization, NoNormalization, PreTrainedNormalization\n",
    "from sklearn.metrics import roc_auc_score, average_precision_score, pairwise_distances\n",
    "\n",
    "\n",
    "def build_eval_set(x_train, y_train, ind, p_anon):\n",
    "    x_in = x_train[y_train==ind]\n",
    "    x_out = x_train[y_train!=ind]\n",
    "    random.shuffle(x_out)\n",
    "\n",
    "    num_out = int(p_anon/100 * x_in.shape[0])\n",
    "    data = np.concatenate([x_in, x_out[:num_out]], axis=0)\n",
    "    gt = np.zeros(data.shape[0], dtype=int)\n",
    "    gt[:data.shape[0] -num_out] = 1\n",
    "    \n",
    "    return data, gt\n",
    "\n",
    "\n",
    "\n",
    "class AnonEvaluationStatistics():\n",
    "    def __init__(self, \n",
    "                 percentiles =[0.1, 1, 10, 20, 30], \n",
    "                 name = 'unnamed'):\n",
    "        self.percentiles = percentiles\n",
    "        self.name = name\n",
    "        self.auroc = None\n",
    "        self.auprc = None\n",
    "        self.mean_auroc = None\n",
    "        self.mean_auprc = None\n",
    "    \n",
    "    \n",
    "    def eval(self, x_train, y_train, clf, print_summary=True):\n",
    "        num_class = np.max(y_train) + 1\n",
    "        \n",
    "        auroc_scores = np.zeros([num_class, len(self.percentiles)])\n",
    "        auprc_scores = np.zeros([num_class, len(self.percentiles)])\n",
    "\n",
    "        for class_num in range(num_class):\n",
    "            for anon_ind, p_anon in enumerate(self.percentiles):\n",
    "                data, gt = build_eval_set(x_train, y_train, class_num, p_anon)\n",
    "                \n",
    "                clf.fit(data)\n",
    "                score = clf.score_samples(data)\n",
    "                auroc = roc_auc_score(gt, score)\n",
    "                auprc = average_precision_score(gt, score)\n",
    "\n",
    "                \n",
    "                auroc_scores[class_num, anon_ind] = auroc\n",
    "                auprc_scores[class_num, anon_ind] = auprc\n",
    "                \n",
    "                if print_summary:\n",
    "                    print('class:', class_num + 1, '/', num_class,\n",
    "                          ', anon percentage:', p_anon, \n",
    "                          ', auroc:', auroc)\n",
    "        \n",
    "        self.auroc = auroc_scores\n",
    "        self.auprc = auprc_scores\n",
    "                \n",
    "        self.mean_auroc = np.mean(auroc_scores, axis=0)\n",
    "        self.mean_auprc = np.mean(auprc_scores, axis=0)\n",
    "            \n",
    "\n",
    "\n",
    "                \n",
    "    \n",
    "# num_clus = 5\n",
    "# clf_ergo = NormalizedClusterLearner(num_clus = num_clus, norm = ErgoNormalization())\n",
    "# eval_name = dataset_name + '_naive_ergo_normalization_' + str(num_clus)\n",
    "# anon_eval = AnonEvaluationStatistics(name = eval_name)\n",
    "# anon_eval.eval(x_train, y_train, clf_ergo)\n",
    "    "
   ]
  },
  {
   "cell_type": "code",
   "execution_count": 4,
   "id": "df3fc8b3",
   "metadata": {},
   "outputs": [
    {
     "name": "stdout",
     "output_type": "stream",
     "text": [
      "class: 1 / 5 , anon percentage: 0.1 , auroc: 0.9725262931959648\n",
      "class: 1 / 5 , anon percentage: 1 , auroc: 0.9803502066759446\n",
      "class: 1 / 5 , anon percentage: 10 , auroc: 0.9744926572918181\n",
      "class: 1 / 5 , anon percentage: 20 , auroc: 0.9612360057361317\n",
      "class: 1 / 5 , anon percentage: 30 , auroc: 0.9341643594774813\n",
      "class: 2 / 5 , anon percentage: 0.1 , auroc: 0.9829362524146813\n",
      "class: 2 / 5 , anon percentage: 1 , auroc: 0.9839228963712273\n",
      "class: 2 / 5 , anon percentage: 10 , auroc: 0.9512629042643792\n",
      "class: 2 / 5 , anon percentage: 20 , auroc: 0.9258445292628781\n",
      "class: 2 / 5 , anon percentage: 30 , auroc: 0.8878578102878389\n",
      "class: 3 / 5 , anon percentage: 0.1 , auroc: 0.894934535308006\n",
      "class: 3 / 5 , anon percentage: 1 , auroc: 0.8046444966038676\n",
      "class: 3 / 5 , anon percentage: 10 , auroc: 0.864304260224747\n",
      "class: 3 / 5 , anon percentage: 20 , auroc: 0.8470634468842705\n",
      "class: 3 / 5 , anon percentage: 30 , auroc: 0.8132687988944859\n",
      "class: 4 / 5 , anon percentage: 0.1 , auroc: 0.9097445803820562\n",
      "class: 4 / 5 , anon percentage: 1 , auroc: 0.8130777060008725\n",
      "class: 4 / 5 , anon percentage: 10 , auroc: 0.7091134744407287\n",
      "class: 4 / 5 , anon percentage: 20 , auroc: 0.5627894895651553\n",
      "class: 4 / 5 , anon percentage: 30 , auroc: 0.44245571614622065\n",
      "class: 5 / 5 , anon percentage: 0.1 , auroc: 0.9935608499678042\n",
      "class: 5 / 5 , anon percentage: 1 , auroc: 0.9835697816920423\n",
      "class: 5 / 5 , anon percentage: 10 , auroc: 0.9616486301227594\n",
      "class: 5 / 5 , anon percentage: 20 , auroc: 0.8835939581901116\n",
      "class: 5 / 5 , anon percentage: 30 , auroc: 0.7697658044476474\n"
     ]
    }
   ],
   "source": [
    "from shell_anon import NormalizedClusterLearner, NormalizedBayesClusterLearner\n",
    "\n",
    "num_clus = 1\n",
    "clf_ergo = NormalizedClusterLearner(num_clus = num_clus, norm = InstanceNormalization())\n",
    "eval_name = dataset_name + '_shell_instance_normalization_' + str(num_clus)\n",
    "anon_eval = AnonEvaluationStatistics(name = eval_name)\n",
    "anon_eval.eval(x_train, y_train, clf_ergo)\n",
    "    "
   ]
  },
  {
   "cell_type": "code",
   "execution_count": 5,
   "id": "f40c5e81",
   "metadata": {},
   "outputs": [
    {
     "name": "stdout",
     "output_type": "stream",
     "text": [
      "[0.9507405  0.91311302 0.89216439 0.83610549 0.7695025 ]\n"
     ]
    }
   ],
   "source": [
    "print(anon_eval.mean_auroc)"
   ]
  },
  {
   "cell_type": "code",
   "execution_count": 6,
   "id": "3ad282ef",
   "metadata": {},
   "outputs": [],
   "source": [
    "import pickle\n",
    "\n",
    "store_path = store_folder + '/' + eval_name + '.pickle'\n",
    "with open(store_path, 'wb') as file:\n",
    "    pickle.dump(anon_eval, file) \n"
   ]
  },
  {
   "cell_type": "code",
   "execution_count": 7,
   "id": "4210d9f8",
   "metadata": {},
   "outputs": [],
   "source": [
    "with open(store_path, 'rb') as file:\n",
    "    b = pickle.load(file)"
   ]
  },
  {
   "cell_type": "code",
   "execution_count": null,
   "id": "99e136b4",
   "metadata": {},
   "outputs": [],
   "source": []
  }
 ],
 "metadata": {
  "kernelspec": {
   "display_name": "Python 3 (ipykernel)",
   "language": "python",
   "name": "python3"
  },
  "language_info": {
   "codemirror_mode": {
    "name": "ipython",
    "version": 3
   },
   "file_extension": ".py",
   "mimetype": "text/x-python",
   "name": "python",
   "nbconvert_exporter": "python",
   "pygments_lexer": "ipython3",
   "version": "3.8.10"
  }
 },
 "nbformat": 4,
 "nbformat_minor": 5
}

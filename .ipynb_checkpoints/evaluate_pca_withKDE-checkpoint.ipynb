{
 "cells": [
  {
   "cell_type": "code",
   "execution_count": 1,
   "metadata": {},
   "outputs": [
    {
     "name": "stdout",
     "output_type": "stream",
     "text": [
      "Data-set: mnist\n",
      "Number of classes: 10\n"
     ]
    }
   ],
   "source": [
    "import numpy as np\n",
    "from dataLoader import importData\n",
    "\n",
    "\n",
    "data_set = 3\n",
    "percentage_anomalies = [0.1, 1, 10, 20, 30]\n",
    "\n",
    "x_train, y_train, x_test, y_test, dataset_name = importData(data_set)\n",
    "#x_train, x_test = pca_transform(x_train, x_test)\n",
    "\n",
    "x_train = np.concatenate([x_train, x_test], axis=0)\n",
    "y_train = np.concatenate([y_train, y_test])\n",
    "num_class = np.max(y_train) + 1\n",
    "print('Number of classes:', num_class)"
   ]
  },
  {
   "cell_type": "code",
   "execution_count": 2,
   "metadata": {},
   "outputs": [],
   "source": [
    "store_folder = '../stored_results/'"
   ]
  },
  {
   "cell_type": "code",
   "execution_count": 3,
   "metadata": {},
   "outputs": [],
   "source": [
    "from evaluation import AnonEvaluationStatistics\n",
    "from shell_anon import NormalizedPCALearner\n",
    "from normalization import InstanceNormalization"
   ]
  },
  {
   "cell_type": "code",
   "execution_count": 4,
   "metadata": {},
   "outputs": [
    {
     "name": "stdout",
     "output_type": "stream",
     "text": [
      "class: 1 / 10 , anon percentage: 0.1 , auroc: 0.9248877299724757\n",
      "class: 1 / 10 , anon percentage: 1 , auroc: 0.7794573667823483\n",
      "class: 1 / 10 , anon percentage: 10 , auroc: 0.7876025336600134\n",
      "class: 1 / 10 , anon percentage: 20 , auroc: 0.7564780698163159\n",
      "class: 1 / 10 , anon percentage: 30 , auroc: 0.7596814659452832\n",
      "class: 2 / 10 , anon percentage: 0.1 , auroc: 0.9855274850831535\n",
      "class: 2 / 10 , anon percentage: 1 , auroc: 0.9782782069185522\n",
      "class: 2 / 10 , anon percentage: 10 , auroc: 0.9778284258982491\n",
      "class: 2 / 10 , anon percentage: 20 , auroc: 0.9776014960171364\n",
      "class: 2 / 10 , anon percentage: 30 , auroc: 0.9767810750466157\n",
      "class: 3 / 10 , anon percentage: 0.1 , auroc: 0.2308059132093467\n",
      "class: 3 / 10 , anon percentage: 1 , auroc: 0.40190541353071674\n",
      "class: 3 / 10 , anon percentage: 10 , auroc: 0.33234561533848683\n",
      "class: 3 / 10 , anon percentage: 20 , auroc: 0.3278873764073344\n",
      "class: 3 / 10 , anon percentage: 30 , auroc: 0.31015648078220603\n",
      "class: 4 / 10 , anon percentage: 0.1 , auroc: 0.8750275071518595\n",
      "class: 4 / 10 , anon percentage: 1 , auroc: 0.5729283980031992\n",
      "class: 4 / 10 , anon percentage: 10 , auroc: 0.4925351179541975\n",
      "class: 4 / 10 , anon percentage: 20 , auroc: 0.4511025807886522\n",
      "class: 4 / 10 , anon percentage: 30 , auroc: 0.44454139775688084\n",
      "class: 5 / 10 , anon percentage: 0.1 , auroc: 0.7694411879640484\n",
      "class: 5 / 10 , anon percentage: 1 , auroc: 0.44610069995172746\n",
      "class: 5 / 10 , anon percentage: 10 , auroc: 0.4798060493755007\n",
      "class: 5 / 10 , anon percentage: 20 , auroc: 0.4474626813076497\n",
      "class: 5 / 10 , anon percentage: 30 , auroc: 0.43687707284442795\n",
      "class: 6 / 10 , anon percentage: 0.1 , auroc: 0.19370082897724267\n",
      "class: 6 / 10 , anon percentage: 1 , auroc: 0.4061837629079828\n",
      "class: 6 / 10 , anon percentage: 10 , auroc: 0.3236525741288509\n",
      "class: 6 / 10 , anon percentage: 20 , auroc: 0.29905098602913066\n",
      "class: 6 / 10 , anon percentage: 30 , auroc: 0.28241767777422705\n",
      "class: 7 / 10 , anon percentage: 0.1 , auroc: 0.8672677913515608\n",
      "class: 7 / 10 , anon percentage: 1 , auroc: 0.6747981042329673\n",
      "class: 7 / 10 , anon percentage: 10 , auroc: 0.6613345323649629\n",
      "class: 7 / 10 , anon percentage: 20 , auroc: 0.647475699402401\n",
      "class: 7 / 10 , anon percentage: 30 , auroc: 0.6498537343514517\n",
      "class: 8 / 10 , anon percentage: 0.1 , auroc: 0.6717400246812011\n",
      "class: 8 / 10 , anon percentage: 1 , auroc: 0.7067926626750156\n",
      "class: 8 / 10 , anon percentage: 10 , auroc: 0.6938784338929582\n",
      "class: 8 / 10 , anon percentage: 20 , auroc: 0.6916803173157566\n",
      "class: 8 / 10 , anon percentage: 30 , auroc: 0.6941909144765596\n",
      "class: 9 / 10 , anon percentage: 0.1 , auroc: 0.8499145299145299\n",
      "class: 9 / 10 , anon percentage: 1 , auroc: 0.5910084033613445\n",
      "class: 9 / 10 , anon percentage: 10 , auroc: 0.4463201314814218\n",
      "class: 9 / 10 , anon percentage: 20 , auroc: 0.44562680298944035\n",
      "class: 9 / 10 , anon percentage: 30 , auroc: 0.41768513199876167\n",
      "class: 10 / 10 , anon percentage: 0.1 , auroc: 0.6942847561559835\n",
      "class: 10 / 10 , anon percentage: 1 , auroc: 0.6539527017175517\n",
      "class: 10 / 10 , anon percentage: 10 , auroc: 0.6584032457850908\n",
      "class: 10 / 10 , anon percentage: 20 , auroc: 0.6568767643345954\n",
      "class: 10 / 10 , anon percentage: 30 , auroc: 0.6463009696208603\n"
     ]
    }
   ],
   "source": [
    "dim = 100\n",
    "kde_bandwidth = 1\n",
    "clf = NormalizedPCALearner(num_dim = dim, \n",
    "                           kde_bandwidth = kde_bandwidth, \n",
    "                           norm = InstanceNormalization())\n",
    "eval_name = dataset_name + '_pca_kde_instance_normalization_' + str(dim) + '_' + str(kde_bandwidth) + '_'\n",
    "anon_eval = AnonEvaluationStatistics(name = eval_name)\n",
    "anon_eval.eval(x_train, y_train, clf)\n"
   ]
  },
  {
   "cell_type": "code",
   "execution_count": 5,
   "metadata": {},
   "outputs": [
    {
     "name": "stdout",
     "output_type": "stream",
     "text": [
      "[0.70625978 0.62114057 0.58537067 0.57012428 0.56184859]\n"
     ]
    }
   ],
   "source": [
    "print(anon_eval.mean_auroc)"
   ]
  },
  {
   "cell_type": "code",
   "execution_count": 6,
   "metadata": {},
   "outputs": [],
   "source": [
    "import pickle\n",
    "\n",
    "store_path = store_folder + '/' + eval_name + '.pickle'\n",
    "with open(store_path, 'wb') as file:\n",
    "    pickle.dump(anon_eval, file) \n"
   ]
  },
  {
   "cell_type": "code",
   "execution_count": 7,
   "metadata": {},
   "outputs": [],
   "source": [
    "with open(store_path, 'rb') as file:\n",
    "    b = pickle.load(file)"
   ]
  },
  {
   "cell_type": "code",
   "execution_count": null,
   "metadata": {},
   "outputs": [],
   "source": []
  }
 ],
 "metadata": {
  "kernelspec": {
   "display_name": "Python 3",
   "language": "python",
   "name": "python3"
  },
  "language_info": {
   "codemirror_mode": {
    "name": "ipython",
    "version": 3
   },
   "file_extension": ".py",
   "mimetype": "text/x-python",
   "name": "python",
   "nbconvert_exporter": "python",
   "pygments_lexer": "ipython3",
   "version": "3.8.10"
  }
 },
 "nbformat": 4,
 "nbformat_minor": 5
}

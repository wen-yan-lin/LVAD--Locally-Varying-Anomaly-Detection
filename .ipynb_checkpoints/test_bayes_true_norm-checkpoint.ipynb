{
 "cells": [
  {
   "cell_type": "code",
   "execution_count": 1,
   "id": "bcbf53eb",
   "metadata": {},
   "outputs": [
    {
     "name": "stdout",
     "output_type": "stream",
     "text": [
      "Data-set: STL-10\n",
      "Number of classes: 10\n"
     ]
    }
   ],
   "source": [
    "import numpy as np\n",
    "from dataLoader import importData\n",
    "\n",
    "\n",
    "data_set = 1\n",
    "percentage_anomalies = [0.1, 1, 10, 20, 30]\n",
    "\n",
    "x_train, y_train, x_test, y_test, dataset_name = importData(data_set)\n",
    "#x_train, x_test = pca_transform(x_train, x_test)\n",
    "\n",
    "x_train = np.concatenate([x_train, x_test], axis=0)\n",
    "y_train = np.concatenate([y_train, y_test])\n",
    "num_class = np.max(y_train) + 1\n",
    "print('Number of classes:', num_class)"
   ]
  },
  {
   "cell_type": "code",
   "execution_count": 2,
   "id": "509c8777",
   "metadata": {},
   "outputs": [],
   "source": [
    "store_folder = '../stored_results/'"
   ]
  },
  {
   "cell_type": "code",
   "execution_count": 3,
   "id": "a8e8f90a",
   "metadata": {},
   "outputs": [],
   "source": [
    "import random\n",
    "from shell_anon import NormalizedClusterLearner\n",
    "from normalization import InstanceNormalization, ErgoNormalization, NaiveNormalization, NoNormalization, PreTrainedNormalization\n",
    "from sklearn.metrics import roc_auc_score, average_precision_score, pairwise_distances\n",
    "\n",
    "\n",
    "def build_eval_set(x_train, y_train, ind, p_anon):\n",
    "    x_in = x_train[y_train==ind]\n",
    "    x_out = x_train[y_train!=ind]\n",
    "    random.shuffle(x_out)\n",
    "\n",
    "    num_out = int(p_anon/100 * x_in.shape[0])\n",
    "    data = np.concatenate([x_in, x_out[:num_out]], axis=0)\n",
    "    gt = np.zeros(data.shape[0], dtype=int)\n",
    "    gt[:data.shape[0] -num_out] = 1\n",
    "    \n",
    "    return data, gt\n",
    "\n",
    "\n",
    "\n",
    "class AnonEvaluationStatistics():\n",
    "    def __init__(self, \n",
    "                 percentiles =[0.1, 1, 10, 20, 30], \n",
    "                 name = 'unnamed'):\n",
    "        self.percentiles = percentiles\n",
    "        self.name = name\n",
    "        self.auroc = None\n",
    "        self.auprc = None\n",
    "        self.mean_auroc = None\n",
    "        self.mean_auprc = None\n",
    "    \n",
    "    \n",
    "    def eval(self, x_train, y_train, clf, print_summary=True):\n",
    "        num_class = np.max(y_train) + 1\n",
    "        \n",
    "        auroc_scores = np.zeros([num_class, len(self.percentiles)])\n",
    "        auprc_scores = np.zeros([num_class, len(self.percentiles)])\n",
    "\n",
    "        for class_num in range(num_class):\n",
    "            for anon_ind, p_anon in enumerate(self.percentiles):\n",
    "                data, gt = build_eval_set(x_train, y_train, class_num, p_anon)\n",
    "                \n",
    "                clf.fit(data)\n",
    "                score = clf.score_samples(data)\n",
    "                auroc = roc_auc_score(gt, score)\n",
    "                auprc = average_precision_score(gt, score)\n",
    "\n",
    "                \n",
    "                auroc_scores[class_num, anon_ind] = auroc\n",
    "                auprc_scores[class_num, anon_ind] = auprc\n",
    "                \n",
    "                if print_summary:\n",
    "                    print('class:', class_num + 1, '/', num_class,\n",
    "                          ', anon percentage:', p_anon, \n",
    "                          ', auroc:', auroc)\n",
    "        \n",
    "        self.auroc = auroc_scores\n",
    "        self.auprc = auprc_scores\n",
    "                \n",
    "        self.mean_auroc = np.mean(auroc_scores, axis=0)\n",
    "        self.mean_auprc = np.mean(auprc_scores, axis=0)\n",
    "            \n",
    "\n",
    "\n",
    "                \n",
    "    \n",
    "# num_clus = 5\n",
    "# clf_ergo = NormalizedClusterLearner(num_clus = num_clus, norm = ErgoNormalization())\n",
    "# eval_name = dataset_name + '_naive_ergo_normalization_' + str(num_clus)\n",
    "# anon_eval = AnonEvaluationStatistics(name = eval_name)\n",
    "# anon_eval.eval(x_train, y_train, clf_ergo)\n",
    "    "
   ]
  },
  {
   "cell_type": "code",
   "execution_count": 4,
   "id": "df3fc8b3",
   "metadata": {},
   "outputs": [
    {
     "name": "stdout",
     "output_type": "stream",
     "text": [
      "class: 1 / 5 , anon percentage: 0.1 , auroc: 0.9929169349645848\n",
      "class: 1 / 5 , anon percentage: 1 , auroc: 0.993934736098706\n"
     ]
    },
    {
     "name": "stderr",
     "output_type": "stream",
     "text": [
      "/media/daniel/D/anon_paper_eccv/code/shell_anon.py:48: RuntimeWarning: divide by zero encountered in long_scalars\n",
      "  p_noty_div_p_y = mask.size / all_in_clus -1\n"
     ]
    },
    {
     "name": "stdout",
     "output_type": "stream",
     "text": [
      "class: 1 / 5 , anon percentage: 10 , auroc: 0.9659182020231395\n",
      "class: 1 / 5 , anon percentage: 20 , auroc: 0.9696333417322247\n",
      "class: 1 / 5 , anon percentage: 30 , auroc: 0.9236587236650176\n",
      "class: 2 / 5 , anon percentage: 0.1 , auroc: 0.9992487658295772\n",
      "class: 2 / 5 , anon percentage: 1 , auroc: 0.9779718754543756\n",
      "class: 2 / 5 , anon percentage: 10 , auroc: 0.9687597366179922\n",
      "class: 2 / 5 , anon percentage: 20 , auroc: 0.9638422543039133\n",
      "class: 2 / 5 , anon percentage: 30 , auroc: 0.9161005033049923\n",
      "class: 3 / 5 , anon percentage: 0.1 , auroc: 0.9351792230092295\n",
      "class: 3 / 5 , anon percentage: 1 , auroc: 0.9469497123153938\n",
      "class: 3 / 5 , anon percentage: 10 , auroc: 0.9194337702262011\n",
      "class: 3 / 5 , anon percentage: 20 , auroc: 0.8482714355779112\n"
     ]
    },
    {
     "name": "stderr",
     "output_type": "stream",
     "text": [
      "/media/daniel/D/anon_paper_eccv/code/shell_anon.py:48: RuntimeWarning: divide by zero encountered in long_scalars\n",
      "  p_noty_div_p_y = mask.size / all_in_clus -1\n"
     ]
    },
    {
     "name": "stdout",
     "output_type": "stream",
     "text": [
      "class: 3 / 5 , anon percentage: 30 , auroc: 0.8766086635962549\n",
      "class: 4 / 5 , anon percentage: 0.1 , auroc: 0.9052371753595192\n",
      "class: 4 / 5 , anon percentage: 1 , auroc: 0.8520968780508069\n",
      "class: 4 / 5 , anon percentage: 10 , auroc: 0.7479716677398582\n",
      "class: 4 / 5 , anon percentage: 20 , auroc: 0.6809173041010438\n"
     ]
    },
    {
     "name": "stderr",
     "output_type": "stream",
     "text": [
      "/media/daniel/D/anon_paper_eccv/code/shell_anon.py:48: RuntimeWarning: divide by zero encountered in long_scalars\n",
      "  p_noty_div_p_y = mask.size / all_in_clus -1\n"
     ]
    },
    {
     "name": "stdout",
     "output_type": "stream",
     "text": [
      "class: 4 / 5 , anon percentage: 30 , auroc: 0.694109249759483\n",
      "class: 5 / 5 , anon percentage: 0.1 , auroc: 0.9992487658295772\n",
      "class: 5 / 5 , anon percentage: 1 , auroc: 0.9555490933261326\n",
      "class: 5 / 5 , anon percentage: 10 , auroc: 0.9558108136177637\n",
      "class: 5 / 5 , anon percentage: 20 , auroc: 0.9221111702144207\n",
      "class: 5 / 5 , anon percentage: 30 , auroc: 0.8921736315768725\n"
     ]
    }
   ],
   "source": [
    "from shell_anon import NormalizedClusterLearner, NormalizedBayesClusterLearner\n",
    "\n",
    "num_clus = 300\n",
    "clf_ergo = NormalizedBayesClusterLearner(num_clus = num_clus, \n",
    "                                         norm = PreTrainedNormalization(np.mean(x_train, axis=0, keepdims=True)))\n",
    "eval_name = dataset_name + '_bayes_instance_normalization_' + str(num_clus)\n",
    "anon_eval = AnonEvaluationStatistics(name = eval_name)\n",
    "anon_eval.eval(x_train, y_train, clf_ergo)\n",
    "    "
   ]
  },
  {
   "cell_type": "code",
   "execution_count": 5,
   "id": "f40c5e81",
   "metadata": {},
   "outputs": [
    {
     "name": "stdout",
     "output_type": "stream",
     "text": [
      "[0.96636617 0.94530046 0.91157884 0.8769551  0.86053015]\n"
     ]
    }
   ],
   "source": [
    "print(anon_eval.mean_auroc)"
   ]
  },
  {
   "cell_type": "code",
   "execution_count": 6,
   "id": "3ad282ef",
   "metadata": {},
   "outputs": [],
   "source": [
    "# import pickle\n",
    "\n",
    "# store_path = store_folder + '/' + eval_name + '.pickle'\n",
    "# with open(store_path, 'wb') as file:\n",
    "#     pickle.dump(anon_eval, file) \n"
   ]
  },
  {
   "cell_type": "code",
   "execution_count": 7,
   "id": "4210d9f8",
   "metadata": {},
   "outputs": [],
   "source": [
    "# with open(store_path, 'rb') as file:\n",
    "#     b = pickle.load(file)"
   ]
  },
  {
   "cell_type": "code",
   "execution_count": null,
   "id": "99e136b4",
   "metadata": {},
   "outputs": [],
   "source": []
  }
 ],
 "metadata": {
  "kernelspec": {
   "display_name": "Python 3 (ipykernel)",
   "language": "python",
   "name": "python3"
  },
  "language_info": {
   "codemirror_mode": {
    "name": "ipython",
    "version": 3
   },
   "file_extension": ".py",
   "mimetype": "text/x-python",
   "name": "python",
   "nbconvert_exporter": "python",
   "pygments_lexer": "ipython3",
   "version": "3.8.10"
  }
 },
 "nbformat": 4,
 "nbformat_minor": 5
}

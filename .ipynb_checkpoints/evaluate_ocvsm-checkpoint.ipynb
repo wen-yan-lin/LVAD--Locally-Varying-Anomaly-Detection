{
 "cells": [
  {
   "cell_type": "code",
   "execution_count": 1,
   "id": "165f915e",
   "metadata": {},
   "outputs": [
    {
     "name": "stdout",
     "output_type": "stream",
     "text": [
      "Data-set: mnist\n",
      "Number of classes: 10\n"
     ]
    }
   ],
   "source": [
    "import numpy as np\n",
    "from dataLoader import importData\n",
    "\n",
    "\n",
    "data_set = 3\n",
    "percentage_anomalies = [0.1, 1, 10, 20, 30]\n",
    "\n",
    "x_train, y_train, x_test, y_test, dataset_name = importData(data_set)\n",
    "#x_train, x_test = pca_transform(x_train, x_test)\n",
    "\n",
    "x_train = np.concatenate([x_train, x_test], axis=0)\n",
    "y_train = np.concatenate([y_train, y_test])\n",
    "num_class = np.max(y_train) + 1\n",
    "print('Number of classes:', num_class)"
   ]
  },
  {
   "cell_type": "code",
   "execution_count": 2,
   "id": "8b890548",
   "metadata": {},
   "outputs": [],
   "source": [
    "store_folder = '../stored_results/'"
   ]
  },
  {
   "cell_type": "code",
   "execution_count": 3,
   "id": "1587d54c",
   "metadata": {},
   "outputs": [
    {
     "name": "stdout",
     "output_type": "stream",
     "text": [
      "class: 1 / 10 , anon percentage: 0.1 , auroc: 0.966681153121831\n",
      "class: 1 / 10 , anon percentage: 1 , auroc: 0.973622054683219\n",
      "class: 1 / 10 , anon percentage: 10 , auroc: 0.9648980594448537\n",
      "class: 1 / 10 , anon percentage: 20 , auroc: 0.9361176720056602\n",
      "class: 1 / 10 , anon percentage: 30 , auroc: 0.8896596102933612\n",
      "class: 2 / 10 , anon percentage: 0.1 , auroc: 0.9941602132791673\n",
      "class: 2 / 10 , anon percentage: 1 , auroc: 0.9776678613164584\n",
      "class: 2 / 10 , anon percentage: 10 , auroc: 0.9703835931061416\n",
      "class: 2 / 10 , anon percentage: 20 , auroc: 0.9459530761650858\n",
      "class: 2 / 10 , anon percentage: 30 , auroc: 0.9183188991600707\n",
      "class: 3 / 10 , anon percentage: 0.1 , auroc: 0.9504291845493562\n",
      "class: 3 / 10 , anon percentage: 1 , auroc: 0.8918434202069208\n",
      "class: 3 / 10 , anon percentage: 10 , auroc: 0.840350920280556\n",
      "class: 3 / 10 , anon percentage: 20 , auroc: 0.8047205183779812\n",
      "class: 3 / 10 , anon percentage: 30 , auroc: 0.7630792814586953\n",
      "class: 4 / 10 , anon percentage: 0.1 , auroc: 0.813671554604197\n",
      "class: 4 / 10 , anon percentage: 1 , auroc: 0.8996017837877285\n",
      "class: 4 / 10 , anon percentage: 10 , auroc: 0.8956836620658626\n",
      "class: 4 / 10 , anon percentage: 20 , auroc: 0.8568034551728547\n",
      "class: 4 / 10 , anon percentage: 30 , auroc: 0.8337462511494819\n",
      "class: 5 / 10 , anon percentage: 0.1 , auroc: 0.9733294255568582\n",
      "class: 5 / 10 , anon percentage: 1 , auroc: 0.8910872526032687\n",
      "class: 5 / 10 , anon percentage: 10 , auroc: 0.8876378178792808\n",
      "class: 5 / 10 , anon percentage: 20 , auroc: 0.8544637608165762\n",
      "class: 5 / 10 , anon percentage: 30 , auroc: 0.8105623504158717\n",
      "class: 6 / 10 , anon percentage: 0.1 , auroc: 0.9111357516236338\n",
      "class: 6 / 10 , anon percentage: 1 , auroc: 0.6930269863898885\n",
      "class: 6 / 10 , anon percentage: 10 , auroc: 0.676289687744681\n",
      "class: 6 / 10 , anon percentage: 20 , auroc: 0.652512499676792\n",
      "class: 6 / 10 , anon percentage: 30 , auroc: 0.6258693248965379\n",
      "class: 7 / 10 , anon percentage: 0.1 , auroc: 0.9813845258871436\n",
      "class: 7 / 10 , anon percentage: 1 , auroc: 0.9651687027341478\n",
      "class: 7 / 10 , anon percentage: 10 , auroc: 0.9388485401197169\n",
      "class: 7 / 10 , anon percentage: 20 , auroc: 0.9102055106034164\n",
      "class: 7 / 10 , anon percentage: 30 , auroc: 0.866199587087659\n",
      "class: 8 / 10 , anon percentage: 0.1 , auroc: 0.8699731640908112\n",
      "class: 8 / 10 , anon percentage: 1 , auroc: 0.9094565565153799\n",
      "class: 8 / 10 , anon percentage: 10 , auroc: 0.8856622008401239\n",
      "class: 8 / 10 , anon percentage: 20 , auroc: 0.8575206095177047\n",
      "class: 8 / 10 , anon percentage: 30 , auroc: 0.8236853385727749\n",
      "class: 9 / 10 , anon percentage: 0.1 , auroc: 0.9278388278388279\n",
      "class: 9 / 10 , anon percentage: 1 , auroc: 0.8658500323206205\n",
      "class: 9 / 10 , anon percentage: 10 , auroc: 0.8888068920326984\n",
      "class: 9 / 10 , anon percentage: 20 , auroc: 0.8654703538220022\n",
      "class: 9 / 10 , anon percentage: 30 , auroc: 0.8558692699581806\n",
      "class: 10 / 10 , anon percentage: 0.1 , auroc: 0.9856759605250551\n",
      "class: 10 / 10 , anon percentage: 1 , auroc: 0.939050451778997\n",
      "class: 10 / 10 , anon percentage: 10 , auroc: 0.9028706669616879\n",
      "class: 10 / 10 , anon percentage: 20 , auroc: 0.8744881737792474\n",
      "class: 10 / 10 , anon percentage: 30 , auroc: 0.851881774595826\n"
     ]
    }
   ],
   "source": [
    "import random\n",
    "from shell_anon import NormalizedClusterLearner, NormalizedOcsvmLearner\n",
    "from normalization import InstanceNormalization, ErgoNormalization, NaiveNormalization, NoNormalization, PreTrainedNormalization\n",
    "from sklearn.metrics import roc_auc_score, average_precision_score, pairwise_distances\n",
    "\n",
    "\n",
    "def build_eval_set(x_train, y_train, ind, p_anon):\n",
    "    x_in = x_train[y_train==ind]\n",
    "    x_out = x_train[y_train!=ind]\n",
    "    random.shuffle(x_out)\n",
    "\n",
    "    num_out = int(p_anon/100 * x_in.shape[0])\n",
    "    data = np.concatenate([x_in, x_out[:num_out]], axis=0)\n",
    "    gt = np.zeros(data.shape[0], dtype=int)\n",
    "    gt[:data.shape[0] -num_out] = 1\n",
    "    \n",
    "    return data, gt\n",
    "\n",
    "\n",
    "\n",
    "class AnonEvaluationStatistics():\n",
    "    def __init__(self, \n",
    "                 percentiles =[0.1, 1, 10, 20, 30], \n",
    "                 name = 'unnamed'):\n",
    "        self.percentiles = percentiles\n",
    "        self.name = name\n",
    "        self.auroc = None\n",
    "        self.auprc = None\n",
    "        self.mean_auroc = None\n",
    "        self.mean_auprc = None\n",
    "    \n",
    "    \n",
    "    def eval(self, x_train, y_train, clf, print_summary=True):\n",
    "        num_class = np.max(y_train) + 1\n",
    "        \n",
    "        auroc_scores = np.zeros([num_class, len(self.percentiles)])\n",
    "        auprc_scores = np.zeros([num_class, len(self.percentiles)])\n",
    "\n",
    "        for class_num in range(num_class):\n",
    "            for anon_ind, p_anon in enumerate(self.percentiles):\n",
    "                data, gt = build_eval_set(x_train, y_train, class_num, p_anon)\n",
    "                \n",
    "                clf.fit(data)\n",
    "                score = clf.score_samples(data)\n",
    "                auroc = roc_auc_score(gt, score)\n",
    "                auprc = average_precision_score(gt, score)\n",
    "\n",
    "                \n",
    "                auroc_scores[class_num, anon_ind] = auroc\n",
    "                auprc_scores[class_num, anon_ind] = auprc\n",
    "                \n",
    "                if print_summary:\n",
    "                    print('class:', class_num + 1, '/', num_class,\n",
    "                          ', anon percentage:', p_anon, \n",
    "                          ', auroc:', auroc)\n",
    "        \n",
    "        self.auroc = auroc_scores\n",
    "        self.auprc = auprc_scores\n",
    "                \n",
    "        self.mean_auroc = np.mean(auroc_scores, axis=0)\n",
    "        self.mean_auprc = np.mean(auprc_scores, axis=0)\n",
    "            \n",
    "\n",
    "\n",
    "\n",
    "\n",
    "clf_ocvsm = NormalizedOcsvmLearner()\n",
    "eval_name = dataset_name + '_ocsvm'\n",
    "anon_eval = AnonEvaluationStatistics(name = eval_name)\n",
    "anon_eval.eval(x_train, y_train, clf_ocvsm)\n",
    "    "
   ]
  },
  {
   "cell_type": "code",
   "execution_count": 8,
   "id": "9291c91f",
   "metadata": {},
   "outputs": [
    {
     "name": "stdout",
     "output_type": "stream",
     "text": [
      "[0.93742798 0.90063751 0.8851432  0.85582556 0.82388717]\n"
     ]
    }
   ],
   "source": [
    "print(anon_eval.mean_auroc)"
   ]
  },
  {
   "cell_type": "code",
   "execution_count": 6,
   "id": "df93a8d5",
   "metadata": {},
   "outputs": [],
   "source": [
    "import pickle\n",
    "\n",
    "store_path = store_folder + '/' + eval_name + '.pickle'\n",
    "with open(store_path, 'wb') as file:\n",
    "    pickle.dump(anon_eval, file) \n"
   ]
  },
  {
   "cell_type": "code",
   "execution_count": 7,
   "id": "58d40434",
   "metadata": {},
   "outputs": [],
   "source": [
    "with open(store_path, 'rb') as file:\n",
    "    b = pickle.load(file)"
   ]
  },
  {
   "cell_type": "code",
   "execution_count": null,
   "id": "23959bb9",
   "metadata": {},
   "outputs": [],
   "source": []
  }
 ],
 "metadata": {
  "kernelspec": {
   "display_name": "Python 3 (ipykernel)",
   "language": "python",
   "name": "python3"
  },
  "language_info": {
   "codemirror_mode": {
    "name": "ipython",
    "version": 3
   },
   "file_extension": ".py",
   "mimetype": "text/x-python",
   "name": "python",
   "nbconvert_exporter": "python",
   "pygments_lexer": "ipython3",
   "version": "3.8.10"
  }
 },
 "nbformat": 4,
 "nbformat_minor": 5
}

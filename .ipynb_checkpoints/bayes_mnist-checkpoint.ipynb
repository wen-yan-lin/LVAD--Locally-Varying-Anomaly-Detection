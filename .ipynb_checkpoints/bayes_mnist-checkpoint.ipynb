{
 "cells": [
  {
   "cell_type": "code",
   "execution_count": null,
   "id": "1a4dee39-11ba-4143-b13c-2e185dd0de6b",
   "metadata": {},
   "outputs": [
    {
     "name": "stdout",
     "output_type": "stream",
     "text": [
      "Data-set: STL-10\n",
      "Number of classes: 10\n",
      "current class:  0\n"
     ]
    }
   ],
   "source": [
    "from display_mnist_errors import find_mnist_anoamlies\n",
    "find_mnist_anoamlies(dataset=1)"
   ]
  },
  {
   "cell_type": "code",
   "execution_count": null,
   "id": "9a059dc7-da87-4c6f-8473-2d1c6cb7a347",
   "metadata": {},
   "outputs": [],
   "source": []
  }
 ],
 "metadata": {
  "kernelspec": {
   "display_name": "Python 3 (ipykernel)",
   "language": "python",
   "name": "python3"
  },
  "language_info": {
   "codemirror_mode": {
    "name": "ipython",
    "version": 3
   },
   "file_extension": ".py",
   "mimetype": "text/x-python",
   "name": "python",
   "nbconvert_exporter": "python",
   "pygments_lexer": "ipython3",
   "version": "3.8.10"
  }
 },
 "nbformat": 4,
 "nbformat_minor": 5
}

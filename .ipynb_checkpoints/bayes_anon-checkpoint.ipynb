{
 "cells": [
  {
   "cell_type": "code",
   "execution_count": 1,
   "metadata": {},
   "outputs": [
    {
     "name": "stdout",
     "output_type": "stream",
     "text": [
      "Data-set: STL-10\n"
     ]
    }
   ],
   "source": [
    "import numpy as np\n",
    "from dataLoader import importData\n",
    "\n",
    "x_train, y_train, x_test, y_test, _ = importData(1)\n",
    "#x_train, x_test = pca_transform(x_train, x_test)\n"
   ]
  },
  {
   "cell_type": "code",
   "execution_count": 2,
   "metadata": {},
   "outputs": [],
   "source": [
    "x_train = np.concatenate([x_train, x_test], axis=0)\n",
    "y_train = np.concatenate([y_train, y_test])"
   ]
  },
  {
   "cell_type": "code",
   "execution_count": 3,
   "metadata": {},
   "outputs": [],
   "source": [
    "import random\n",
    "    \n",
    "num_out = 10\n",
    "ind = 3\n",
    "num_clus = 5\n",
    "x_in = x_train[y_train==ind]\n",
    "num_in = x_in.shape[0]\n",
    "\n",
    "x_out = x_train[y_train!=ind]\n",
    "random.shuffle(x_out)\n",
    "\n",
    "data = np.concatenate([x_in, x_out[:num_out]], axis=0)\n",
    "gt = np.zeros(data.shape[0], dtype=int)\n",
    "gt[:data.shape[0] -num_out] = 1\n"
   ]
  },
  {
   "cell_type": "code",
   "execution_count": 4,
   "metadata": {},
   "outputs": [
    {
     "data": {
      "text/plain": [
       "0.9973076923076922"
      ]
     },
     "execution_count": 4,
     "metadata": {},
     "output_type": "execute_result"
    }
   ],
   "source": [
    "from shell_anon import NormalizedClusterLearner\n",
    "from normalization import InstanceNormalization, ErgoNormalization, NaiveNormalization, NoNormalization, PreTrainedNormalization\n",
    "from sklearn.metrics import roc_auc_score, average_precision_score, pairwise_distances\n",
    "\n",
    "clf = NormalizedClusterLearner(num_clus=num_clus)\n",
    "clf.fit(data)\n",
    "d = clf.score(data)\n",
    "\n",
    "roc_auc_score(gt, -d)"
   ]
  },
  {
   "cell_type": "code",
   "execution_count": 5,
   "metadata": {},
   "outputs": [
    {
     "data": {
      "text/plain": [
       "0.9966923076923077"
      ]
     },
     "execution_count": 5,
     "metadata": {},
     "output_type": "execute_result"
    }
   ],
   "source": [
    "clf = NormalizedClusterLearner(num_clus=num_clus, norm=InstanceNormalization())\n",
    "clf.fit(data)\n",
    "d = clf.score(data)\n",
    "\n",
    "roc_auc_score(gt, -d)"
   ]
  },
  {
   "cell_type": "code",
   "execution_count": 6,
   "metadata": {},
   "outputs": [],
   "source": [
    "clf = NormalizedClusterLearner(num_clus=300, norm=ErgoNormalization())\n",
    "clf.fit_with_bayes(data)"
   ]
  },
  {
   "cell_type": "code",
   "execution_count": 9,
   "metadata": {},
   "outputs": [
    {
     "data": {
      "text/plain": [
       "0.9993076923076923"
      ]
     },
     "execution_count": 9,
     "metadata": {},
     "output_type": "execute_result"
    }
   ],
   "source": [
    "prob = clf.score_with_bayes(data)\n",
    "roc_auc_score(gt, prob)"
   ]
  }
 ],
 "metadata": {
  "kernelspec": {
   "display_name": "Python 3",
   "language": "python",
   "name": "python3"
  },
  "language_info": {
   "codemirror_mode": {
    "name": "ipython",
    "version": 3
   },
   "file_extension": ".py",
   "mimetype": "text/x-python",
   "name": "python",
   "nbconvert_exporter": "python",
   "pygments_lexer": "ipython3",
   "version": "3.8.10"
  }
 },
 "nbformat": 4,
 "nbformat_minor": 5
}

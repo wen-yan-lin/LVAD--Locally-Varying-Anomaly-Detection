{
 "cells": [
  {
   "cell_type": "code",
   "execution_count": 1,
   "metadata": {},
   "outputs": [
    {
     "name": "stdout",
     "output_type": "stream",
     "text": [
      "Data-set: mnist\n"
     ]
    }
   ],
   "source": [
    "import numpy as np\n",
    "from dataLoader import importData\n",
    "\n",
    "x_train, y_train, x_test, y_test, _ = importData(5)\n",
    "#x_train, x_test = pca_transform(x_train, x_test)\n"
   ]
  },
  {
   "cell_type": "code",
   "execution_count": 2,
   "metadata": {},
   "outputs": [],
   "source": [
    "x_train = np.concatenate([x_train, x_test], axis=0)\n",
    "y_train = np.concatenate([y_train, y_test])"
   ]
  },
  {
   "cell_type": "code",
   "execution_count": 3,
   "metadata": {},
   "outputs": [],
   "source": [
    "import random\n",
    "    \n",
    "num_out = 100\n",
    "ind = 5\n",
    "num_clus = 5\n",
    "x_in = x_train[y_train==ind]\n",
    "num_in = x_in.shape[0]\n",
    "\n",
    "x_out = x_train[y_train!=ind]\n",
    "random.shuffle(x_out)\n",
    "\n",
    "data = np.concatenate([x_in, x_out[:num_out]], axis=0)\n",
    "gt = np.zeros(data.shape[0], dtype=int)\n",
    "gt[:data.shape[0] -num_out] = 1\n"
   ]
  },
  {
   "cell_type": "code",
   "execution_count": 4,
   "metadata": {},
   "outputs": [
    {
     "data": {
      "text/plain": [
       "0.8653571994297481"
      ]
     },
     "execution_count": 4,
     "metadata": {},
     "output_type": "execute_result"
    }
   ],
   "source": [
    "from shell_anon import NormalizedClusterLearner\n",
    "from normalization import InstanceNormalization, ErgoNormalization, NaiveNormalization, NoNormalization, PreTrainedNormalization\n",
    "from sklearn.metrics import roc_auc_score, average_precision_score, pairwise_distances\n",
    "\n",
    "clf = NormalizedClusterLearner(num_clus=num_clus)\n",
    "clf.fit(data)\n",
    "d = clf.score(data)\n",
    "\n",
    "roc_auc_score(gt, -d)"
   ]
  },
  {
   "cell_type": "code",
   "execution_count": 5,
   "metadata": {},
   "outputs": [
    {
     "data": {
      "text/plain": [
       "0.863825439569143"
      ]
     },
     "execution_count": 5,
     "metadata": {},
     "output_type": "execute_result"
    }
   ],
   "source": [
    "clf = NormalizedClusterLearner(num_clus=num_clus, norm=InstanceNormalization())\n",
    "clf.fit(data)\n",
    "d = clf.score(data)\n",
    "\n",
    "roc_auc_score(gt, -d)"
   ]
  },
  {
   "cell_type": "code",
   "execution_count": 6,
   "metadata": {},
   "outputs": [
    {
     "name": "stdout",
     "output_type": "stream",
     "text": [
      "0\n"
     ]
    }
   ],
   "source": [
    "from shell_stats import percentile_est\n",
    "import scipy \n",
    "\n",
    "def estimate_from_feat(self, feat_in, means, feat_out=None):\n",
    "    \"\"\" estimate percentile stats from class features\"\"\"\n",
    "    dist_in = pairwise_distances(feat_in, means)**2 \n",
    "    inds = np.argmin(dist_in, axis=1)\n",
    "\n",
    "    dims = means.shape[0]\n",
    "    per_in = []\n",
    "    per_out = []\n",
    "    frac = []\n",
    "    num = []\n",
    "    for i in range(dims):\n",
    "        mask = inds ==i\n",
    "        if sum(mask)>2:\n",
    "            per_in_sub = percentile_est(dist_in[mask, i])\n",
    "            per_out_sub = percentile_est(dist_in[~mask,i])\n",
    "\n",
    "            frac_sub = sum(mask) / mask.size\n",
    "            num.append(sum(mask))\n",
    "\n",
    "\n",
    "\n",
    "            per_in.append(per_in_sub)\n",
    "            per_out.append(per_out_sub)\n",
    "            frac.append(frac_sub)\n",
    "        else:\n",
    "            per_in.append(None)\n",
    "            per_out.append(None)\n",
    "            frac.append(0)\n",
    "            num.append(0)\n",
    "\n",
    "    frac = frac / sum(frac)\n",
    "    if self.type_  <= 1:\n",
    "        self.out_min_ = np.min(dist_in)\n",
    "        self.out_width = np.max(dist_in) - self.out_min_\n",
    "    else:\n",
    "        self.out_min_ = np.min(dist_in)\n",
    "        self.out_width = 10 * (np.max(dist_in) - self.out_min_)\n",
    "\n",
    "\n",
    "    self.mean = means\n",
    "    self.per_in = per_in\n",
    "    self.per_out = per_out\n",
    "    self.frac = frac\n",
    "    self.num = num\n",
    "\n",
    "class Holder():\n",
    "    def __init__(self, type_ =2):\n",
    "        self.type_ = type_\n",
    "        pass\n",
    "    \n",
    "\n",
    "    \n",
    "def est_prob(self, feat):\n",
    "    \"\"\" infer the likelihood that feat belongs to this class\"\"\"\n",
    "    dist = pairwise_distances(feat, self.mean)**2  \n",
    "\n",
    "    print(self.type_)\n",
    "    prob_all = np.zeros([feat.shape[0], self.mean.shape[0]])\n",
    "    for i in range(len(self.per_in)):\n",
    "        if self.per_in[i] is None:\n",
    "            continue\n",
    "        pin = self.per_in[i]\n",
    "        pout = self.per_out[i]\n",
    "\n",
    "        a = np.abs(pin - dist[:,i:i+1])\n",
    "        b = np.abs(pout - dist[:,i:i+1])\n",
    "        p_x_y = np.argmin(a, axis=1)/100.0\n",
    "        if self.type_ == 0:\n",
    "            p_x_not_y = np.argmin(b, axis=1)/100.0\n",
    "        if self.type_ ==1 or self.type_==2:\n",
    "            p_x_not_y = scipy.stats.uniform.cdf(dist[:,i], self.out_min_, self.out_width)\n",
    "\n",
    "        epsilon = 0.000000001\n",
    "        prob1  =  (epsilon + p_x_y) / (100* p_x_not_y + p_x_y + epsilon) #+ (1- p_x_y)\n",
    "#         p_x_y = 1 - p_x_y\n",
    "#         p_x_not_y = 1 - p_x_not_y \n",
    "#         prob2  =  (epsilon + p_x_y) / (10* p_x_not_y + p_x_y + epsilon)\n",
    "        \n",
    "        prob  =  prob1 #+ prob2\n",
    "        \n",
    "\n",
    "        prob_all[:,i] = prob #/ 2 #* self.frac[i]\n",
    "    ####################### \n",
    "    mag = np.sum(self.frac)\n",
    "    prob_all = prob_all * self.frac / mag\n",
    "    \n",
    " \n",
    "    return np.sum(prob_all, axis=1)\n",
    "\n",
    "\n",
    "clf = NormalizedClusterLearner(num_clus=300)\n",
    "clf.fit(data)\n",
    "holder_class = Holder(type_=0)\n",
    "data_ = clf.norm.transform(data)\n",
    "estimate_from_feat(holder_class, data_, clf.cluster_centers)\n",
    "prob = est_prob(holder_class, data_)"
   ]
  },
  {
   "cell_type": "code",
   "execution_count": 7,
   "metadata": {},
   "outputs": [
    {
     "data": {
      "text/plain": [
       "0.6833882464755267"
      ]
     },
     "execution_count": 7,
     "metadata": {},
     "output_type": "execute_result"
    }
   ],
   "source": [
    "roc_auc_score(gt, prob)"
   ]
  },
  {
   "cell_type": "code",
   "execution_count": null,
   "metadata": {},
   "outputs": [],
   "source": []
  }
 ],
 "metadata": {
  "kernelspec": {
   "display_name": "Python 3",
   "language": "python",
   "name": "python3"
  },
  "language_info": {
   "codemirror_mode": {
    "name": "ipython",
    "version": 3
   },
   "file_extension": ".py",
   "mimetype": "text/x-python",
   "name": "python",
   "nbconvert_exporter": "python",
   "pygments_lexer": "ipython3",
   "version": "3.8.10"
  }
 },
 "nbformat": 4,
 "nbformat_minor": 5
}

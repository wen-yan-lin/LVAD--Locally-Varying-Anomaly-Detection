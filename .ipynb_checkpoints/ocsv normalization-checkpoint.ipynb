{
 "cells": [
  {
   "cell_type": "code",
   "execution_count": 9,
   "metadata": {},
   "outputs": [
    {
     "name": "stdout",
     "output_type": "stream",
     "text": [
      "Data-set: STL-10\n"
     ]
    }
   ],
   "source": [
    "from dataLoader import importData\n",
    "import numpy as np\n",
    "\n",
    "x_train, y_train, x_test, y_test, data_set_name = importData(1)\n"
   ]
  },
  {
   "cell_type": "code",
   "execution_count": 10,
   "metadata": {},
   "outputs": [],
   "source": [
    "from sklearn.svm import OneClassSVM"
   ]
  },
  {
   "cell_type": "code",
   "execution_count": 11,
   "metadata": {},
   "outputs": [],
   "source": [
    "m = np.mean(x_train, axis=1, keepdims=True)\n",
    "x_train_ = x_train - m\n",
    "x_train_ = x_train_ / np.linalg.norm(x_train_, axis=1, keepdims=True)\n",
    "\n",
    "m = np.mean(x_test, axis=1, keepdims=True)\n",
    "x_test_ = x_test - m\n",
    "x_test_ = x_test_ / np.linalg.norm(x_test_, axis=1, keepdims=True)\n"
   ]
  },
  {
   "cell_type": "code",
   "execution_count": 12,
   "metadata": {},
   "outputs": [],
   "source": [
    "clf = OneClassSVM(gamma='auto').fit(x_train_[y_train<3])\n"
   ]
  },
  {
   "cell_type": "code",
   "execution_count": 13,
   "metadata": {},
   "outputs": [],
   "source": [
    "scores = clf.decision_function(x_test)\n",
    "roc_auc_score(y_test == ind, -d)"
   ]
  },
  {
   "cell_type": "code",
   "execution_count": 3,
   "metadata": {},
   "outputs": [
    {
     "data": {
      "text/plain": [
       "0.9762228112820699"
      ]
     },
     "execution_count": 3,
     "metadata": {},
     "output_type": "execute_result"
    }
   ],
   "source": [
    "from sklearn.metrics import roc_auc_score\n",
    "\n",
    "ind = 4\n",
    "\n",
    "m = np.mean(x_train_[y_train==ind], axis=0, keepdims=True)\n",
    "d = np.linalg.norm(x_test_ - m, axis=1)\n",
    "roc_auc_score(y_test == ind, -d)"
   ]
  },
  {
   "cell_type": "code",
   "execution_count": 4,
   "metadata": {},
   "outputs": [],
   "source": [
    "m = np.mean(x_train)\n",
    "x_train_ = x_train - m\n",
    "x_train_ = x_train_ / np.linalg.norm(x_train_, axis=1, keepdims=True)\n",
    "\n",
    "x_test_ = x_test - m\n",
    "x_test_ = x_test_ / np.linalg.norm(x_test_, axis=1, keepdims=True)\n"
   ]
  },
  {
   "cell_type": "code",
   "execution_count": 5,
   "metadata": {},
   "outputs": [
    {
     "data": {
      "text/plain": [
       "0.9765933255743138"
      ]
     },
     "execution_count": 5,
     "metadata": {},
     "output_type": "execute_result"
    }
   ],
   "source": [
    "\n",
    "m = np.mean(x_train_[y_train==ind], axis=0, keepdims=True)\n",
    "d = np.linalg.norm(x_test_ - m, axis=1)\n",
    "roc_auc_score(y_test == ind, -d)"
   ]
  }
 ],
 "metadata": {
  "kernelspec": {
   "display_name": "Python 3",
   "language": "python",
   "name": "python3"
  },
  "language_info": {
   "codemirror_mode": {
    "name": "ipython",
    "version": 3
   },
   "file_extension": ".py",
   "mimetype": "text/x-python",
   "name": "python",
   "nbconvert_exporter": "python",
   "pygments_lexer": "ipython3",
   "version": "3.8.10"
  }
 },
 "nbformat": 4,
 "nbformat_minor": 4
}

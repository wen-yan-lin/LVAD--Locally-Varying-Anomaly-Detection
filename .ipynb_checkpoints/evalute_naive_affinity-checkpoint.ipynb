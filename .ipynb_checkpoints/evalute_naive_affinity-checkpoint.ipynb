{
 "cells": [
  {
   "cell_type": "code",
   "execution_count": 1,
   "metadata": {},
   "outputs": [
    {
     "name": "stdout",
     "output_type": "stream",
     "text": [
      "Data-set: MIT-Places-Small\n",
      "Number of classes: 5\n"
     ]
    }
   ],
   "source": [
    "import numpy as np\n",
    "from dataLoader import importData\n",
    "\n",
    "\n",
    "data_set = 4\n",
    "percentage_anomalies = [0.1, 1, 10, 20, 30]\n",
    "\n",
    "x_train, y_train, x_test, y_test, dataset_name = importData(data_set)\n",
    "#x_train, x_test = pca_transform(x_train, x_test)\n",
    "\n",
    "x_train = np.concatenate([x_train, x_test], axis=0)\n",
    "y_train = np.concatenate([y_train, y_test])\n",
    "num_class = np.max(y_train) + 1\n",
    "print('Number of classes:', num_class)"
   ]
  },
  {
   "cell_type": "code",
   "execution_count": 2,
   "metadata": {},
   "outputs": [],
   "source": [
    "store_folder = '../stored_results/'"
   ]
  },
  {
   "cell_type": "code",
   "execution_count": 3,
   "metadata": {},
   "outputs": [],
   "source": [
    "from evaluation import AnonEvaluationStatistics\n",
    "from shell_anon import NormalizedAffinityMatrixLearner\n",
    "from normalization import InstanceNormalization"
   ]
  },
  {
   "cell_type": "code",
   "execution_count": 4,
   "metadata": {},
   "outputs": [
    {
     "name": "stdout",
     "output_type": "stream",
     "text": [
      "class: 1 / 5 , anon percentage: 0.1 , auroc: 0.8811976819059884\n",
      "class: 1 / 5 , anon percentage: 1 , auroc: 0.9767982884323785\n",
      "class: 1 / 5 , anon percentage: 10 , auroc: 0.9699675965353218\n",
      "class: 1 / 5 , anon percentage: 20 , auroc: 0.9550457117438275\n",
      "class: 1 / 5 , anon percentage: 30 , auroc: 0.9250155445646588\n",
      "class: 2 / 5 , anon percentage: 0.1 , auroc: 0.9946340416398369\n",
      "class: 2 / 5 , anon percentage: 1 , auroc: 0.9869035996925826\n",
      "class: 2 / 5 , anon percentage: 10 , auroc: 0.9675570695635918\n",
      "class: 2 / 5 , anon percentage: 20 , auroc: 0.9251197360466937\n",
      "class: 2 / 5 , anon percentage: 30 , auroc: 0.8781079619294765\n",
      "class: 3 / 5 , anon percentage: 0.1 , auroc: 0.9186520712599271\n",
      "class: 3 / 5 , anon percentage: 1 , auroc: 0.9271233616517458\n",
      "class: 3 / 5 , anon percentage: 10 , auroc: 0.891998836798704\n",
      "class: 3 / 5 , anon percentage: 20 , auroc: 0.8611564754933829\n",
      "class: 3 / 5 , anon percentage: 30 , auroc: 0.8460818359946412\n",
      "class: 4 / 5 , anon percentage: 0.1 , auroc: 0.9993560849967804\n",
      "class: 4 / 5 , anon percentage: 1 , auroc: 0.7783374530045906\n",
      "class: 4 / 5 , anon percentage: 10 , auroc: 0.6754772241031926\n",
      "class: 4 / 5 , anon percentage: 20 , auroc: 0.5433610911507829\n",
      "class: 4 / 5 , anon percentage: 30 , auroc: 0.49310419596041893\n",
      "class: 5 / 5 , anon percentage: 0.1 , auroc: 0.9929169349645847\n",
      "class: 5 / 5 , anon percentage: 1 , auroc: 0.9879110151008454\n",
      "class: 5 / 5 , anon percentage: 10 , auroc: 0.9567631846789773\n",
      "class: 5 / 5 , anon percentage: 20 , auroc: 0.8799362928537877\n",
      "class: 5 / 5 , anon percentage: 30 , auroc: 0.7933240331073291\n"
     ]
    }
   ],
   "source": [
    "\n",
    "clf = NormalizedAffinityMatrixLearner(norm = InstanceNormalization())\n",
    "eval_name = dataset_name + '_affinity_instance_normalization_'\n",
    "anon_eval = AnonEvaluationStatistics(name = eval_name)\n",
    "anon_eval.eval(x_train, y_train, clf)\n"
   ]
  },
  {
   "cell_type": "code",
   "execution_count": 8,
   "metadata": {},
   "outputs": [
    {
     "name": "stdout",
     "output_type": "stream",
     "text": [
      "[0.95735136 0.93141474 0.89235278 0.83292386 0.78712671]\n"
     ]
    }
   ],
   "source": [
    "print(anon_eval.mean_auroc)"
   ]
  },
  {
   "cell_type": "code",
   "execution_count": 6,
   "metadata": {},
   "outputs": [],
   "source": [
    "import pickle\n",
    "\n",
    "store_path = store_folder + '/' + eval_name + '.pickle'\n",
    "with open(store_path, 'wb') as file:\n",
    "    pickle.dump(anon_eval, file) \n"
   ]
  },
  {
   "cell_type": "code",
   "execution_count": 7,
   "metadata": {},
   "outputs": [],
   "source": [
    "with open(store_path, 'rb') as file:\n",
    "    b = pickle.load(file)"
   ]
  },
  {
   "cell_type": "code",
   "execution_count": null,
   "metadata": {},
   "outputs": [],
   "source": []
  }
 ],
 "metadata": {
  "kernelspec": {
   "display_name": "Python 3",
   "language": "python",
   "name": "python3"
  },
  "language_info": {
   "codemirror_mode": {
    "name": "ipython",
    "version": 3
   },
   "file_extension": ".py",
   "mimetype": "text/x-python",
   "name": "python",
   "nbconvert_exporter": "python",
   "pygments_lexer": "ipython3",
   "version": "3.8.10"
  }
 },
 "nbformat": 4,
 "nbformat_minor": 5
}

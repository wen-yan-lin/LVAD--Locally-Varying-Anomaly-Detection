{
 "cells": [
  {
   "cell_type": "code",
   "execution_count": 5,
   "id": "560afe47",
   "metadata": {},
   "outputs": [
    {
     "name": "stdout",
     "output_type": "stream",
     "text": [
      "Dataset: mnist\n"
     ]
    },
    {
     "name": "stderr",
     "output_type": "stream",
     "text": [
      "/home/daniel/Work/anon_final/code_final/shell_anomaly_detectors.py:116: RuntimeWarning: divide by zero encountered in long_scalars\n",
      "  p_noty_div_p_y = mask.size / all_in_clus -1\n"
     ]
    },
    {
     "name": "stdout",
     "output_type": "stream",
     "text": [
      "AUROC of LVAD: 0.991307287106845\n",
      "AUROC of OCSVM: 0.9740071004625168\n"
     ]
    }
   ],
   "source": [
    "from examples import simple_example\n",
    "\n",
    "simple_example(data_set = 5, interest_class = 0, anomaly_percentage = 10)"
   ]
  },
  {
   "cell_type": "code",
   "execution_count": 6,
   "id": "a2f4d0c3",
   "metadata": {},
   "outputs": [
    {
     "name": "stdout",
     "output_type": "stream",
     "text": [
      "Dataset: mnist\n",
      "AUROC of LVAD: 0.9861303738975074\n",
      "AUROC of OCSVM: 0.9402456818816436\n"
     ]
    }
   ],
   "source": [
    "simple_example(data_set = 5, interest_class = 0, anomaly_percentage = 20)"
   ]
  },
  {
   "cell_type": "code",
   "execution_count": 8,
   "id": "2739ce09",
   "metadata": {},
   "outputs": [
    {
     "name": "stdout",
     "output_type": "stream",
     "text": [
      "Dataset: STL-10\n",
      "AUROC of LVAD: 0.9963964497041421\n",
      "AUROC of OCSVM: 0.9935739644970414\n"
     ]
    }
   ],
   "source": [
    "simple_example(data_set = 1, interest_class = 0, anomaly_percentage = 10)"
   ]
  },
  {
   "cell_type": "code",
   "execution_count": 7,
   "id": "69cafb17",
   "metadata": {},
   "outputs": [
    {
     "name": "stdout",
     "output_type": "stream",
     "text": [
      "Dataset: STL-10\n",
      "AUROC of LVAD: 0.9967781065088758\n",
      "AUROC of OCSVM: 0.9731508875739645\n"
     ]
    }
   ],
   "source": [
    "simple_example(data_set = 1, interest_class = 0, anomaly_percentage = 20)"
   ]
  }
 ],
 "metadata": {
  "kernelspec": {
   "display_name": "Python 3 (ipykernel)",
   "language": "python",
   "name": "python3"
  },
  "language_info": {
   "codemirror_mode": {
    "name": "ipython",
    "version": 3
   },
   "file_extension": ".py",
   "mimetype": "text/x-python",
   "name": "python",
   "nbconvert_exporter": "python",
   "pygments_lexer": "ipython3",
   "version": "3.10.4"
  }
 },
 "nbformat": 4,
 "nbformat_minor": 5
}

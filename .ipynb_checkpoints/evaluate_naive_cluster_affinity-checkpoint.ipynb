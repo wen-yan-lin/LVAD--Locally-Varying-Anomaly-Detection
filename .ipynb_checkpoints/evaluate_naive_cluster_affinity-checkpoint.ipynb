{
 "cells": [
  {
   "cell_type": "code",
   "execution_count": 11,
   "metadata": {},
   "outputs": [
    {
     "name": "stdout",
     "output_type": "stream",
     "text": [
      "Data-set: fashion-mnist\n",
      "Number of classes: 10\n"
     ]
    }
   ],
   "source": [
    "import numpy as np\n",
    "from dataLoader import importData\n",
    "\n",
    "\n",
    "data_set = 4\n",
    "percentage_anomalies = [0.1, 1, 10, 20, 30]\n",
    "\n",
    "x_train, y_train, x_test, y_test, dataset_name = importData(data_set)\n",
    "#x_train, x_test = pca_transform(x_train, x_test)\n",
    "\n",
    "x_train = np.concatenate([x_train, x_test], axis=0)\n",
    "y_train = np.concatenate([y_train, y_test])\n",
    "num_class = np.max(y_train) + 1\n",
    "print('Number of classes:', num_class)"
   ]
  },
  {
   "cell_type": "code",
   "execution_count": 12,
   "metadata": {},
   "outputs": [],
   "source": [
    "store_folder = '../stored_results/'"
   ]
  },
  {
   "cell_type": "code",
   "execution_count": 13,
   "metadata": {},
   "outputs": [],
   "source": [
    "from evaluation import AnonEvaluationStatistics\n",
    "from shell_anon import NormalizedAffinityMatrixLearner, NormalizedClusterCountLearner\n",
    "from normalization import InstanceNormalization"
   ]
  },
  {
   "cell_type": "code",
   "execution_count": 14,
   "metadata": {},
   "outputs": [
    {
     "name": "stdout",
     "output_type": "stream",
     "text": [
      "class: 1 / 10 , anon percentage: 0.1 , auroc: 0.9070204081632652\n",
      "class: 1 / 10 , anon percentage: 1 , auroc: 0.9318877551020409\n",
      "class: 1 / 10 , anon percentage: 10 , auroc: 0.9106322448979591\n",
      "class: 1 / 10 , anon percentage: 20 , auroc: 0.8997301020408164\n",
      "class: 1 / 10 , anon percentage: 30 , auroc: 0.8967504761904762\n",
      "class: 2 / 10 , anon percentage: 0.1 , auroc: 0.9487755102040816\n",
      "class: 2 / 10 , anon percentage: 1 , auroc: 0.9625836734693877\n",
      "class: 2 / 10 , anon percentage: 10 , auroc: 0.9717157142857142\n",
      "class: 2 / 10 , anon percentage: 20 , auroc: 0.9713289795918367\n",
      "class: 2 / 10 , anon percentage: 30 , auroc: 0.9712502040816327\n",
      "class: 3 / 10 , anon percentage: 0.1 , auroc: 0.9733061224489796\n",
      "class: 3 / 10 , anon percentage: 1 , auroc: 0.8679816326530613\n",
      "class: 3 / 10 , anon percentage: 10 , auroc: 0.8718453061224489\n",
      "class: 3 / 10 , anon percentage: 20 , auroc: 0.876159387755102\n",
      "class: 3 / 10 , anon percentage: 30 , auroc: 0.8701845578231293\n",
      "class: 4 / 10 , anon percentage: 0.1 , auroc: 0.8606734693877551\n",
      "class: 4 / 10 , anon percentage: 1 , auroc: 0.885438775510204\n",
      "class: 4 / 10 , anon percentage: 10 , auroc: 0.9249263265306122\n",
      "class: 4 / 10 , anon percentage: 20 , auroc: 0.9142294897959183\n",
      "class: 4 / 10 , anon percentage: 30 , auroc: 0.9161649659863945\n",
      "class: 5 / 10 , anon percentage: 0.1 , auroc: 0.9453877551020407\n",
      "class: 5 / 10 , anon percentage: 1 , auroc: 0.9248653061224489\n",
      "class: 5 / 10 , anon percentage: 10 , auroc: 0.9186544897959183\n",
      "class: 5 / 10 , anon percentage: 20 , auroc: 0.9203383673469387\n",
      "class: 5 / 10 , anon percentage: 30 , auroc: 0.913558163265306\n",
      "class: 6 / 10 , anon percentage: 0.1 , auroc: 0.47263265306122454\n",
      "class: 6 / 10 , anon percentage: 1 , auroc: 0.7988000000000001\n",
      "class: 6 / 10 , anon percentage: 10 , auroc: 0.7241826530612245\n",
      "class: 6 / 10 , anon percentage: 20 , auroc: 0.671961224489796\n",
      "class: 6 / 10 , anon percentage: 30 , auroc: 0.6206493197278912\n",
      "class: 7 / 10 , anon percentage: 0.1 , auroc: 0.8696938775510205\n",
      "class: 7 / 10 , anon percentage: 1 , auroc: 0.816565306122449\n",
      "class: 7 / 10 , anon percentage: 10 , auroc: 0.7833685714285714\n",
      "class: 7 / 10 , anon percentage: 20 , auroc: 0.791388775510204\n",
      "class: 7 / 10 , anon percentage: 30 , auroc: 0.791229455782313\n",
      "class: 8 / 10 , anon percentage: 0.1 , auroc: 0.9872040816326532\n",
      "class: 8 / 10 , anon percentage: 1 , auroc: 0.9919877551020408\n",
      "class: 8 / 10 , anon percentage: 10 , auroc: 0.9797777551020408\n",
      "class: 8 / 10 , anon percentage: 20 , auroc: 0.9768156122448979\n",
      "class: 8 / 10 , anon percentage: 30 , auroc: 0.9822720408163265\n",
      "class: 9 / 10 , anon percentage: 0.1 , auroc: 0.8205510204081633\n",
      "class: 9 / 10 , anon percentage: 1 , auroc: 0.9046061224489795\n",
      "class: 9 / 10 , anon percentage: 10 , auroc: 0.9008428571428571\n",
      "class: 9 / 10 , anon percentage: 20 , auroc: 0.8829145918367347\n",
      "class: 9 / 10 , anon percentage: 30 , auroc: 0.8647497959183674\n",
      "class: 10 / 10 , anon percentage: 0.1 , auroc: 0.9973061224489796\n",
      "class: 10 / 10 , anon percentage: 1 , auroc: 0.9975489795918367\n",
      "class: 10 / 10 , anon percentage: 10 , auroc: 0.9902165306122448\n",
      "class: 10 / 10 , anon percentage: 20 , auroc: 0.9853773469387754\n",
      "class: 10 / 10 , anon percentage: 30 , auroc: 0.9871521768707483\n"
     ]
    }
   ],
   "source": [
    "\n",
    "clf = NormalizedClusterCountLearner(num_clus=300, norm = InstanceNormalization())\n",
    "eval_name = dataset_name + '_cluster_affinity_instance_normalization_'\n",
    "anon_eval = AnonEvaluationStatistics(name = eval_name)\n",
    "anon_eval.eval(x_train, y_train, clf)\n"
   ]
  },
  {
   "cell_type": "code",
   "execution_count": 15,
   "metadata": {},
   "outputs": [
    {
     "name": "stdout",
     "output_type": "stream",
     "text": [
      "[0.8782551  0.90822653 0.89761624 0.88902439 0.88139612]\n"
     ]
    }
   ],
   "source": [
    "print(anon_eval.mean_auroc)"
   ]
  },
  {
   "cell_type": "code",
   "execution_count": 16,
   "metadata": {},
   "outputs": [],
   "source": [
    "import pickle\n",
    "\n",
    "store_path = store_folder + '/' + eval_name + '.pickle'\n",
    "with open(store_path, 'wb') as file:\n",
    "    pickle.dump(anon_eval, file) \n"
   ]
  },
  {
   "cell_type": "code",
   "execution_count": 17,
   "metadata": {},
   "outputs": [],
   "source": [
    "with open(store_path, 'rb') as file:\n",
    "    b = pickle.load(file)"
   ]
  },
  {
   "cell_type": "code",
   "execution_count": null,
   "metadata": {},
   "outputs": [],
   "source": []
  }
 ],
 "metadata": {
  "kernelspec": {
   "display_name": "Python 3",
   "language": "python",
   "name": "python3"
  },
  "language_info": {
   "codemirror_mode": {
    "name": "ipython",
    "version": 3
   },
   "file_extension": ".py",
   "mimetype": "text/x-python",
   "name": "python",
   "nbconvert_exporter": "python",
   "pygments_lexer": "ipython3",
   "version": "3.8.10"
  }
 },
 "nbformat": 4,
 "nbformat_minor": 5
}

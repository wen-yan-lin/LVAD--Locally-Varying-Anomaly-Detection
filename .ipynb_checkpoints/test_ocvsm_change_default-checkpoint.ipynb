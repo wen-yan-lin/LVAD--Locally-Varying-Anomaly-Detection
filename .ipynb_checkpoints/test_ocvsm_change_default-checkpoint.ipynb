{
 "cells": [
  {
   "cell_type": "code",
   "execution_count": 1,
   "id": "bcbf53eb",
   "metadata": {},
   "outputs": [
    {
     "name": "stdout",
     "output_type": "stream",
     "text": [
      "Data-set: STL-10\n",
      "Number of classes: 10\n"
     ]
    }
   ],
   "source": [
    "import numpy as np\n",
    "from dataLoader import importData\n",
    "\n",
    "\n",
    "data_set = 5\n",
    "percentage_anomalies = [0.1, 1, 10, 20, 30]\n",
    "\n",
    "x_train, y_train, x_test, y_test, dataset_name = importData(data_set)\n",
    "#x_train, x_test = pca_transform(x_train, x_test)\n",
    "\n",
    "x_train = np.concatenate([x_train, x_test], axis=0)\n",
    "y_train = np.concatenate([y_train, y_test])\n",
    "num_class = np.max(y_train) + 1\n",
    "print('Number of classes:', num_class)"
   ]
  },
  {
   "cell_type": "code",
   "execution_count": 2,
   "id": "509c8777",
   "metadata": {},
   "outputs": [],
   "source": [
    "store_folder = '../stored_results/'"
   ]
  },
  {
   "cell_type": "code",
   "execution_count": 3,
   "id": "a8e8f90a",
   "metadata": {},
   "outputs": [],
   "source": [
    "import random\n",
    "from shell_anon import NormalizedClusterLearner\n",
    "from normalization import InstanceNormalization, ErgoNormalization, NaiveNormalization, NoNormalization, PreTrainedNormalization\n",
    "from sklearn.metrics import roc_auc_score, average_precision_score, pairwise_distances\n",
    "\n",
    "\n",
    "def build_eval_set(x_train, y_train, ind, p_anon):\n",
    "    x_in = x_train[y_train==ind]\n",
    "    x_out = x_train[y_train!=ind]\n",
    "    random.shuffle(x_out)\n",
    "\n",
    "    num_out = int(p_anon/100 * x_in.shape[0])\n",
    "    data = np.concatenate([x_in, x_out[:num_out]], axis=0)\n",
    "    gt = np.zeros(data.shape[0], dtype=int)\n",
    "    gt[:data.shape[0] -num_out] = 1\n",
    "    \n",
    "    return data, gt\n",
    "\n",
    "\n",
    "\n",
    "class AnonEvaluationStatistics():\n",
    "    def __init__(self, \n",
    "                 percentiles =[0.1, 1, 10, 20, 30], \n",
    "                 name = 'unnamed'):\n",
    "        self.percentiles = percentiles\n",
    "        self.name = name\n",
    "        self.auroc = None\n",
    "        self.auprc = None\n",
    "        self.mean_auroc = None\n",
    "        self.mean_auprc = None\n",
    "    \n",
    "    \n",
    "    def eval(self, x_train, y_train, clf, print_summary=True):\n",
    "        num_class = np.max(y_train) + 1\n",
    "        \n",
    "        auroc_scores = np.zeros([num_class, len(self.percentiles)])\n",
    "        auprc_scores = np.zeros([num_class, len(self.percentiles)])\n",
    "\n",
    "        for class_num in range(num_class):\n",
    "            for anon_ind, p_anon in enumerate(self.percentiles):\n",
    "                data, gt = build_eval_set(x_train, y_train, class_num, p_anon)\n",
    "                \n",
    "                clf.fit(data)\n",
    "                score = clf.score_samples(data)\n",
    "                auroc = roc_auc_score(gt, score)\n",
    "                auprc = average_precision_score(gt, score)\n",
    "\n",
    "                \n",
    "                auroc_scores[class_num, anon_ind] = auroc\n",
    "                auprc_scores[class_num, anon_ind] = auprc\n",
    "                \n",
    "                if print_summary:\n",
    "                    print('class:', class_num + 1, '/', num_class,\n",
    "                          ', anon percentage:', p_anon, \n",
    "                          ', auroc:', auroc)\n",
    "        \n",
    "        self.auroc = auroc_scores\n",
    "        self.auprc = auprc_scores\n",
    "                \n",
    "        self.mean_auroc = np.mean(auroc_scores, axis=0)\n",
    "        self.mean_auprc = np.mean(auprc_scores, axis=0)\n",
    "            \n",
    "\n",
    "\n",
    "                \n",
    "    \n",
    "# num_clus = 5\n",
    "# clf_ergo = NormalizedClusterLearner(num_clus = num_clus, norm = ErgoNormalization())\n",
    "# eval_name = dataset_name + '_naive_ergo_normalization_' + str(num_clus)\n",
    "# anon_eval = AnonEvaluationStatistics(name = eval_name)\n",
    "# anon_eval.eval(x_train, y_train, clf_ergo)\n",
    "    "
   ]
  },
  {
   "cell_type": "code",
   "execution_count": 4,
   "id": "2c389300",
   "metadata": {},
   "outputs": [],
   "source": [
    "norm = InstanceNormalization()\n",
    "norm.fit(x_train)\n",
    "x_train_ = norm.transform(x_train)\n"
   ]
  },
  {
   "cell_type": "code",
   "execution_count": 5,
   "id": "df3fc8b3",
   "metadata": {},
   "outputs": [
    {
     "name": "stdout",
     "output_type": "stream",
     "text": [
      "class: 1 / 10 , anon percentage: 0.1 , auroc: 0.9992307692307693\n",
      "class: 1 / 10 , anon percentage: 1 , auroc: 0.9992307692307693\n",
      "class: 1 / 10 , anon percentage: 10 , auroc: 0.9969644970414202\n",
      "class: 1 / 10 , anon percentage: 20 , auroc: 0.9948343195266274\n",
      "class: 1 / 10 , anon percentage: 30 , auroc: 0.9902741617357003\n",
      "class: 2 / 10 , anon percentage: 0.1 , auroc: 1.0\n",
      "class: 2 / 10 , anon percentage: 1 , auroc: 0.9874556213017751\n",
      "class: 2 / 10 , anon percentage: 10 , auroc: 0.9656745562130177\n",
      "class: 2 / 10 , anon percentage: 20 , auroc: 0.8903284023668641\n",
      "class: 2 / 10 , anon percentage: 30 , auroc: 0.8022347140039449\n",
      "class: 3 / 10 , anon percentage: 0.1 , auroc: 0.9976923076923077\n"
     ]
    },
    {
     "ename": "KeyboardInterrupt",
     "evalue": "",
     "output_type": "error",
     "traceback": [
      "\u001b[0;31m---------------------------------------------------------------------------\u001b[0m",
      "\u001b[0;31mKeyboardInterrupt\u001b[0m                         Traceback (most recent call last)",
      "\u001b[0;32m/tmp/ipykernel_12492/3709906961.py\u001b[0m in \u001b[0;36m<module>\u001b[0;34m\u001b[0m\n\u001b[1;32m      6\u001b[0m \u001b[0meval_name\u001b[0m \u001b[0;34m=\u001b[0m \u001b[0;34m''\u001b[0m\u001b[0;34m\u001b[0m\u001b[0;34m\u001b[0m\u001b[0m\n\u001b[1;32m      7\u001b[0m \u001b[0manon_eval\u001b[0m \u001b[0;34m=\u001b[0m \u001b[0mAnonEvaluationStatistics\u001b[0m\u001b[0;34m(\u001b[0m\u001b[0mname\u001b[0m \u001b[0;34m=\u001b[0m \u001b[0meval_name\u001b[0m\u001b[0;34m)\u001b[0m\u001b[0;34m\u001b[0m\u001b[0;34m\u001b[0m\u001b[0m\n\u001b[0;32m----> 8\u001b[0;31m \u001b[0manon_eval\u001b[0m\u001b[0;34m.\u001b[0m\u001b[0meval\u001b[0m\u001b[0;34m(\u001b[0m\u001b[0mx_train_\u001b[0m\u001b[0;34m,\u001b[0m \u001b[0my_train\u001b[0m\u001b[0;34m,\u001b[0m \u001b[0mclf\u001b[0m\u001b[0;34m)\u001b[0m\u001b[0;34m\u001b[0m\u001b[0;34m\u001b[0m\u001b[0m\n\u001b[0m\u001b[1;32m      9\u001b[0m \u001b[0;34m\u001b[0m\u001b[0m\n",
      "\u001b[0;32m/tmp/ipykernel_12492/1259924712.py\u001b[0m in \u001b[0;36meval\u001b[0;34m(self, x_train, y_train, clf, print_summary)\u001b[0m\n\u001b[1;32m     42\u001b[0m \u001b[0;34m\u001b[0m\u001b[0m\n\u001b[1;32m     43\u001b[0m                 \u001b[0mclf\u001b[0m\u001b[0;34m.\u001b[0m\u001b[0mfit\u001b[0m\u001b[0;34m(\u001b[0m\u001b[0mdata\u001b[0m\u001b[0;34m)\u001b[0m\u001b[0;34m\u001b[0m\u001b[0;34m\u001b[0m\u001b[0m\n\u001b[0;32m---> 44\u001b[0;31m                 \u001b[0mscore\u001b[0m \u001b[0;34m=\u001b[0m \u001b[0mclf\u001b[0m\u001b[0;34m.\u001b[0m\u001b[0mscore_samples\u001b[0m\u001b[0;34m(\u001b[0m\u001b[0mdata\u001b[0m\u001b[0;34m)\u001b[0m\u001b[0;34m\u001b[0m\u001b[0;34m\u001b[0m\u001b[0m\n\u001b[0m\u001b[1;32m     45\u001b[0m                 \u001b[0mauroc\u001b[0m \u001b[0;34m=\u001b[0m \u001b[0mroc_auc_score\u001b[0m\u001b[0;34m(\u001b[0m\u001b[0mgt\u001b[0m\u001b[0;34m,\u001b[0m \u001b[0mscore\u001b[0m\u001b[0;34m)\u001b[0m\u001b[0;34m\u001b[0m\u001b[0;34m\u001b[0m\u001b[0m\n\u001b[1;32m     46\u001b[0m                 \u001b[0mauprc\u001b[0m \u001b[0;34m=\u001b[0m \u001b[0maverage_precision_score\u001b[0m\u001b[0;34m(\u001b[0m\u001b[0mgt\u001b[0m\u001b[0;34m,\u001b[0m \u001b[0mscore\u001b[0m\u001b[0;34m)\u001b[0m\u001b[0;34m\u001b[0m\u001b[0;34m\u001b[0m\u001b[0m\n",
      "\u001b[0;32m~/.local/lib/python3.8/site-packages/sklearn/svm/_classes.py\u001b[0m in \u001b[0;36mscore_samples\u001b[0;34m(self, X)\u001b[0m\n\u001b[1;32m   1664\u001b[0m             \u001b[0mReturns\u001b[0m \u001b[0mthe\u001b[0m \u001b[0;34m(\u001b[0m\u001b[0munshifted\u001b[0m\u001b[0;34m)\u001b[0m \u001b[0mscoring\u001b[0m \u001b[0mfunction\u001b[0m \u001b[0mof\u001b[0m \u001b[0mthe\u001b[0m \u001b[0msamples\u001b[0m\u001b[0;34m.\u001b[0m\u001b[0;34m\u001b[0m\u001b[0;34m\u001b[0m\u001b[0m\n\u001b[1;32m   1665\u001b[0m         \"\"\"\n\u001b[0;32m-> 1666\u001b[0;31m         \u001b[0;32mreturn\u001b[0m \u001b[0mself\u001b[0m\u001b[0;34m.\u001b[0m\u001b[0mdecision_function\u001b[0m\u001b[0;34m(\u001b[0m\u001b[0mX\u001b[0m\u001b[0;34m)\u001b[0m \u001b[0;34m+\u001b[0m \u001b[0mself\u001b[0m\u001b[0;34m.\u001b[0m\u001b[0moffset_\u001b[0m\u001b[0;34m\u001b[0m\u001b[0;34m\u001b[0m\u001b[0m\n\u001b[0m\u001b[1;32m   1667\u001b[0m \u001b[0;34m\u001b[0m\u001b[0m\n\u001b[1;32m   1668\u001b[0m     \u001b[0;32mdef\u001b[0m \u001b[0mpredict\u001b[0m\u001b[0;34m(\u001b[0m\u001b[0mself\u001b[0m\u001b[0;34m,\u001b[0m \u001b[0mX\u001b[0m\u001b[0;34m)\u001b[0m\u001b[0;34m:\u001b[0m\u001b[0;34m\u001b[0m\u001b[0;34m\u001b[0m\u001b[0m\n",
      "\u001b[0;32m~/.local/lib/python3.8/site-packages/sklearn/svm/_classes.py\u001b[0m in \u001b[0;36mdecision_function\u001b[0;34m(self, X)\u001b[0m\n\u001b[1;32m   1648\u001b[0m             \u001b[0mReturns\u001b[0m \u001b[0mthe\u001b[0m \u001b[0mdecision\u001b[0m \u001b[0mfunction\u001b[0m \u001b[0mof\u001b[0m \u001b[0mthe\u001b[0m \u001b[0msamples\u001b[0m\u001b[0;34m.\u001b[0m\u001b[0;34m\u001b[0m\u001b[0;34m\u001b[0m\u001b[0m\n\u001b[1;32m   1649\u001b[0m         \"\"\"\n\u001b[0;32m-> 1650\u001b[0;31m         \u001b[0mdec\u001b[0m \u001b[0;34m=\u001b[0m \u001b[0mself\u001b[0m\u001b[0;34m.\u001b[0m\u001b[0m_decision_function\u001b[0m\u001b[0;34m(\u001b[0m\u001b[0mX\u001b[0m\u001b[0;34m)\u001b[0m\u001b[0;34m.\u001b[0m\u001b[0mravel\u001b[0m\u001b[0;34m(\u001b[0m\u001b[0;34m)\u001b[0m\u001b[0;34m\u001b[0m\u001b[0;34m\u001b[0m\u001b[0m\n\u001b[0m\u001b[1;32m   1651\u001b[0m         \u001b[0;32mreturn\u001b[0m \u001b[0mdec\u001b[0m\u001b[0;34m\u001b[0m\u001b[0;34m\u001b[0m\u001b[0m\n\u001b[1;32m   1652\u001b[0m \u001b[0;34m\u001b[0m\u001b[0m\n",
      "\u001b[0;32m~/.local/lib/python3.8/site-packages/sklearn/svm/_base.py\u001b[0m in \u001b[0;36m_decision_function\u001b[0;34m(self, X)\u001b[0m\n\u001b[1;32m    518\u001b[0m             \u001b[0mdec_func\u001b[0m \u001b[0;34m=\u001b[0m \u001b[0mself\u001b[0m\u001b[0;34m.\u001b[0m\u001b[0m_sparse_decision_function\u001b[0m\u001b[0;34m(\u001b[0m\u001b[0mX\u001b[0m\u001b[0;34m)\u001b[0m\u001b[0;34m\u001b[0m\u001b[0;34m\u001b[0m\u001b[0m\n\u001b[1;32m    519\u001b[0m         \u001b[0;32melse\u001b[0m\u001b[0;34m:\u001b[0m\u001b[0;34m\u001b[0m\u001b[0;34m\u001b[0m\u001b[0m\n\u001b[0;32m--> 520\u001b[0;31m             \u001b[0mdec_func\u001b[0m \u001b[0;34m=\u001b[0m \u001b[0mself\u001b[0m\u001b[0;34m.\u001b[0m\u001b[0m_dense_decision_function\u001b[0m\u001b[0;34m(\u001b[0m\u001b[0mX\u001b[0m\u001b[0;34m)\u001b[0m\u001b[0;34m\u001b[0m\u001b[0;34m\u001b[0m\u001b[0m\n\u001b[0m\u001b[1;32m    521\u001b[0m \u001b[0;34m\u001b[0m\u001b[0m\n\u001b[1;32m    522\u001b[0m         \u001b[0;31m# In binary case, we need to flip the sign of coef, intercept and\u001b[0m\u001b[0;34m\u001b[0m\u001b[0;34m\u001b[0m\u001b[0;34m\u001b[0m\u001b[0m\n",
      "\u001b[0;32m~/.local/lib/python3.8/site-packages/sklearn/svm/_base.py\u001b[0m in \u001b[0;36m_dense_decision_function\u001b[0;34m(self, X)\u001b[0m\n\u001b[1;32m    534\u001b[0m             \u001b[0mkernel\u001b[0m \u001b[0;34m=\u001b[0m \u001b[0;34m\"precomputed\"\u001b[0m\u001b[0;34m\u001b[0m\u001b[0;34m\u001b[0m\u001b[0m\n\u001b[1;32m    535\u001b[0m \u001b[0;34m\u001b[0m\u001b[0m\n\u001b[0;32m--> 536\u001b[0;31m         return libsvm.decision_function(\n\u001b[0m\u001b[1;32m    537\u001b[0m             \u001b[0mX\u001b[0m\u001b[0;34m,\u001b[0m\u001b[0;34m\u001b[0m\u001b[0;34m\u001b[0m\u001b[0m\n\u001b[1;32m    538\u001b[0m             \u001b[0mself\u001b[0m\u001b[0;34m.\u001b[0m\u001b[0msupport_\u001b[0m\u001b[0;34m,\u001b[0m\u001b[0;34m\u001b[0m\u001b[0;34m\u001b[0m\u001b[0m\n",
      "\u001b[0;31mKeyboardInterrupt\u001b[0m: "
     ]
    }
   ],
   "source": [
    "from shell_anon import NormalizedClusterLearner, NormalizedBayesClusterLearner\n",
    "from sklearn.svm import OneClassSVM\n",
    "\n",
    "num_clus = 300\n",
    "clf = OneClassSVM(nu=0.99)\n",
    "eval_name = ''\n",
    "anon_eval = AnonEvaluationStatistics(name = eval_name)\n",
    "anon_eval.eval(x_train_, y_train, clf)\n",
    "    "
   ]
  },
  {
   "cell_type": "code",
   "execution_count": null,
   "id": "f40c5e81",
   "metadata": {},
   "outputs": [],
   "source": [
    "print(anon_eval.mean_auroc)"
   ]
  },
  {
   "cell_type": "code",
   "execution_count": null,
   "id": "3ad282ef",
   "metadata": {},
   "outputs": [],
   "source": [
    "# import pickle\n",
    "\n",
    "# store_path = store_folder + '/' + eval_name + '.pickle'\n",
    "# with open(store_path, 'wb') as file:\n",
    "#     pickle.dump(anon_eval, file) \n"
   ]
  },
  {
   "cell_type": "code",
   "execution_count": null,
   "id": "4210d9f8",
   "metadata": {},
   "outputs": [],
   "source": [
    "# with open(store_path, 'rb') as file:\n",
    "#     b = pickle.load(file)"
   ]
  },
  {
   "cell_type": "code",
   "execution_count": null,
   "id": "99e136b4",
   "metadata": {},
   "outputs": [],
   "source": []
  }
 ],
 "metadata": {
  "kernelspec": {
   "display_name": "Python 3 (ipykernel)",
   "language": "python",
   "name": "python3"
  },
  "language_info": {
   "codemirror_mode": {
    "name": "ipython",
    "version": 3
   },
   "file_extension": ".py",
   "mimetype": "text/x-python",
   "name": "python",
   "nbconvert_exporter": "python",
   "pygments_lexer": "ipython3",
   "version": "3.8.10"
  }
 },
 "nbformat": 4,
 "nbformat_minor": 5
}

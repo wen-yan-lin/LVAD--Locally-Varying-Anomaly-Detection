{
 "cells": [
  {
   "cell_type": "code",
   "execution_count": 1,
   "metadata": {},
   "outputs": [],
   "source": [
    "import numpy as np\n",
    "import pickle\n",
    "from dataLoader import importData\n",
    "from evaluation import AnonEvaluationStatistics\n",
    "import matplotlib.pyplot as plt\n",
    "\n",
    "store_folder = '../stored_results/'\n",
    "store_figures = '../stored_figures/compare_dist_based_algo/'\n"
   ]
  },
  {
   "cell_type": "code",
   "execution_count": 2,
   "metadata": {},
   "outputs": [
    {
     "name": "stdout",
     "output_type": "stream",
     "text": [
      "Data-set: STL-10\n"
     ]
    }
   ],
   "source": [
    "def loader(algo_name, dataset_name, store_folder):\n",
    "    store_path = store_folder + '/' + dataset_name + algo_name + '.pickle'\n",
    "    with open(store_path, 'rb') as file:\n",
    "        anon_eval = pickle.load(file)\n",
    "    return anon_eval\n",
    "\n",
    "algo_names = ['_bayes_instance_normalization_300',\n",
    "              '_pca_kde_instance_normalization_1_0.2_',\n",
    "              '_pca_kde_instance_normalization_5_0.2_', \n",
    "              '_pca_kde_instance_normalization_100_0.2_', \n",
    "              '_pca_kde_instance_normalization_100_1_', \n",
    "              '_affinity_instance_normalization_',\n",
    "              '_isolationforest_normalization_',\n",
    "              '_ocsvm']\n",
    "\n",
    "data_set = 5\n",
    "_, _, _, _, dataset_name = importData(data_set)\n"
   ]
  },
  {
   "cell_type": "code",
   "execution_count": 3,
   "metadata": {},
   "outputs": [],
   "source": [
    "anon_eval_bayes = loader(algo_names[0], dataset_name, store_folder)\n",
    "anon_eval_kde_1_02 = loader(algo_names[1], dataset_name, store_folder)\n",
    "anon_eval_kde_5_02 = loader(algo_names[2], dataset_name, store_folder)\n",
    "anon_eval_kde_100_02 = loader(algo_names[3], dataset_name, store_folder)\n",
    "anon_eval_kde_100_1 = loader(algo_names[4], dataset_name, store_folder)\n"
   ]
  },
  {
   "cell_type": "code",
   "execution_count": 4,
   "metadata": {},
   "outputs": [],
   "source": [
    "anon_eval_kde_100_1 = loader(algo_names[4], dataset_name, store_folder)\n"
   ]
  },
  {
   "cell_type": "code",
   "execution_count": 5,
   "metadata": {},
   "outputs": [],
   "source": [
    "title_font = {'family' : 'DejaVu Sans',\n",
    "        'weight' : 'bold',\n",
    "        'size'   : 12}\n",
    "\n",
    "tic_font = {'family' : 'DejaVu Sans',\n",
    "        'weight' : 'bold',\n",
    "        'size'   : 10}\n"
   ]
  },
  {
   "cell_type": "code",
   "execution_count": 6,
   "metadata": {},
   "outputs": [],
   "source": [
    "def plt_error_bars(anon_eval, axes=None, linestyle='', title='', xlabel='', ylabel=''):\n",
    "    top_err = np.max(anon_eval.auroc, axis=0) - np.mean(anon_eval.auroc, axis=0)\n",
    "    bot_err = np.mean(anon_eval.auroc, axis=0) - np.min(anon_eval.auroc, axis=0)\n",
    "    err = np.array([bot_err, top_err] ) /10\n",
    "    if axes is None:\n",
    "        plt.errorbar(anon_eval.percentiles, np.mean(anon_eval.auroc, axis=0), err,\n",
    "                     fmt = linestyle, capsize=5, capthick=True)\n",
    "    else:\n",
    "        axes.errorbar(anon_eval.percentiles, \n",
    "                      np.mean(anon_eval.auroc, axis=0), \n",
    "                      err, \n",
    "                      fmt = linestyle, capsize=5, capthick=True)\n",
    "        axes.set_title(title)\n",
    "        axes.set_xlabel(xlabel)\n",
    "        axes.set_ylabel(ylabel)\n",
    "\n",
    "  "
   ]
  },
  {
   "cell_type": "code",
   "execution_count": 7,
   "metadata": {},
   "outputs": [
    {
     "data": {
      "image/png": "[encoded data removed]",
      "text/plain": [
       "<Figure size 432x288 with 5 Axes>"
      ]
     },
     "metadata": {
      "needs_background": "light"
     },
     "output_type": "display_data"
    }
   ],
   "source": [
    "\n",
    "plt.rc('font', **tic_font)\n",
    "figure, axes = plt.subplots(nrows=1, ncols=5, sharex=True, sharey=True)\n",
    "\n",
    "plt_error_bars(anon_eval_kde_100_02, axes[0], '--g', 'KDE \\n dim: 100, \\n width: 0.2.', ylabel='Average AUROC')\n",
    "plt_error_bars(anon_eval_kde_1_02, axes[1], '--r', 'KDE \\n dim: 1, \\n width: 0.2.')\n",
    "plt_error_bars(anon_eval_kde_5_02, axes[2], '--y', 'KDE \\n dim: 5, \\n width: 0.2.',  xlabel='Anomaly Percentage')\n",
    "plt_error_bars(anon_eval_kde_100_1, axes[3], '--m', 'KDE \\n dim: 100, \\n width: 1.')\n",
    "plt_error_bars(anon_eval_bayes, axes[4], '--b', 'LVAD \\n (Ours)')\n",
    "\n",
    "plt.xscale('log')\n",
    "\n",
    "\n",
    "plt.savefig(store_figures + 'kde_' + dataset_name + '.pdf',\n",
    "            bbox_inches='tight',\n",
    "            pad_inches = 0)\n"
   ]
  },
  {
   "cell_type": "code",
   "execution_count": null,
   "metadata": {},
   "outputs": [],
   "source": []
  },
  {
   "cell_type": "code",
   "execution_count": null,
   "metadata": {},
   "outputs": [],
   "source": []
  }
 ],
 "metadata": {
  "kernelspec": {
   "display_name": "Python 3 (ipykernel)",
   "language": "python",
   "name": "python3"
  },
  "language_info": {
   "codemirror_mode": {
    "name": "ipython",
    "version": 3
   },
   "file_extension": ".py",
   "mimetype": "text/x-python",
   "name": "python",
   "nbconvert_exporter": "python",
   "pygments_lexer": "ipython3",
   "version": "3.8.10"
  }
 },
 "nbformat": 4,
 "nbformat_minor": 4
}

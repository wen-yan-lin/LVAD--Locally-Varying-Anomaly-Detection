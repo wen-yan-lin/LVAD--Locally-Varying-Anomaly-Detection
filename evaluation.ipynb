{
 "cells": [
  {
   "cell_type": "code",
   "execution_count": 1,
   "id": "bcbf53eb",
   "metadata": {},
   "outputs": [],
   "source": [
    "import sys \n",
    "sys.path.append(\"source_code/\")\n",
    "\n",
    "import numpy as np\n",
    "from dataLoader import importData\n",
    "from normalization import NormalizedAnomalyDetector\n",
    "from shell_anomaly_detectors import LVAD\n",
    "from evaluation import AnonEvaluationStatistics"
   ]
  },
  {
   "cell_type": "code",
   "execution_count": 2,
   "id": "39f6872b",
   "metadata": {},
   "outputs": [
    {
     "name": "stdout",
     "output_type": "stream",
     "text": [
      "Loading dataset\n",
      "Dataset: MIT-Places-Small\n"
     ]
    }
   ],
   "source": [
    "print('Loading dataset')\n",
    "data_set = 3\n",
    "x_train, y_train, x_test, y_test, dataset_name = importData(data_set)"
   ]
  },
  {
   "cell_type": "code",
   "execution_count": 3,
   "id": "df3fc8b3",
   "metadata": {},
   "outputs": [
    {
     "name": "stdout",
     "output_type": "stream",
     "text": [
      "Evaluation\n",
      "class: 1 / 5 , anon percentage: 0.1 , auroc: 0.9995\n",
      "class: 1 / 5 , anon percentage: 1 , auroc: 0.99045\n",
      "class: 1 / 5 , anon percentage: 10 , auroc: 0.9781675000000003\n",
      "class: 1 / 5 , anon percentage: 20 , auroc: 0.9740449999999999\n",
      "class: 1 / 5 , anon percentage: 30 , auroc: 0.9640666666666666\n",
      "class: 2 / 5 , anon percentage: 0.1 , auroc: 1.0\n",
      "class: 2 / 5 , anon percentage: 1 , auroc: 0.980625\n",
      "class: 2 / 5 , anon percentage: 10 , auroc: 0.9723050000000001\n",
      "class: 2 / 5 , anon percentage: 20 , auroc: 0.9601912499999999\n",
      "class: 2 / 5 , anon percentage: 30 , auroc: 0.9392674999999999\n",
      "class: 3 / 5 , anon percentage: 0.1 , auroc: 0.983\n",
      "class: 3 / 5 , anon percentage: 1 , auroc: 0.9327500000000001\n",
      "class: 3 / 5 , anon percentage: 10 , auroc: 0.9078550000000001\n",
      "class: 3 / 5 , anon percentage: 20 , auroc: 0.8963287499999999\n",
      "class: 3 / 5 , anon percentage: 30 , auroc: 0.8882933333333334\n",
      "class: 4 / 5 , anon percentage: 0.1 , auroc: 0.9512499999999999\n",
      "class: 4 / 5 , anon percentage: 1 , auroc: 0.8311000000000001\n",
      "class: 4 / 5 , anon percentage: 10 , auroc: 0.7642100000000001\n",
      "class: 4 / 5 , anon percentage: 20 , auroc: 0.7173987500000001\n",
      "class: 4 / 5 , anon percentage: 30 , auroc: 0.6403966666666667\n",
      "class: 5 / 5 , anon percentage: 0.1 , auroc: 0.9995\n",
      "class: 5 / 5 , anon percentage: 1 , auroc: 0.988575\n",
      "class: 5 / 5 , anon percentage: 10 , auroc: 0.983635\n",
      "class: 5 / 5 , anon percentage: 20 , auroc: 0.94834125\n",
      "class: 5 / 5 , anon percentage: 30 , auroc: 0.9371058333333333\n"
     ]
    }
   ],
   "source": [
    "print('Evaluation')\n",
    "clf = NormalizedAnomalyDetector(LVAD(max_num_clus= 1000))\n",
    "evaluation = AnonEvaluationStatistics()\n",
    "evaluation.eval(x_train, y_train, clf)    "
   ]
  },
  {
   "cell_type": "code",
   "execution_count": 5,
   "id": "f40c5e81",
   "metadata": {},
   "outputs": [
    {
     "name": "stdout",
     "output_type": "stream",
     "text": [
      "(anomaly percentage, auroc)\n",
      "[(0.1, 0.98665), (1, 0.9446999999999999), (10, 0.9212345000000003), (20, 0.8992610000000001), (30, 0.873826)]\n"
     ]
    }
   ],
   "source": [
    "evaluation.display()"
   ]
  },
  {
   "cell_type": "code",
   "execution_count": 5,
   "id": "3ad282ef",
   "metadata": {},
   "outputs": [],
   "source": [
    "# import pickle\n",
    "# store_folder = '../stored_results/'\n",
    "# eval_name = dataset_name + '_LVAD'\n",
    "# store_path = store_folder + '/' + eval_name + '.pickle'\n",
    "# with open(store_path, 'wb') as file:\n",
    "#     pickle.dump(oneClass_eval, file) \n"
   ]
  },
  {
   "cell_type": "code",
   "execution_count": 6,
   "id": "4210d9f8",
   "metadata": {},
   "outputs": [],
   "source": [
    "# with open(store_path, 'rb') as file:\n",
    "#     b = pickle.load(file)"
   ]
  }
 ],
 "metadata": {
  "kernelspec": {
   "display_name": "Python 3 (ipykernel)",
   "language": "python",
   "name": "python3"
  },
  "language_info": {
   "codemirror_mode": {
    "name": "ipython",
    "version": 3
   },
   "file_extension": ".py",
   "mimetype": "text/x-python",
   "name": "python",
   "nbconvert_exporter": "python",
   "pygments_lexer": "ipython3",
   "version": "3.10.4"
  }
 },
 "nbformat": 4,
 "nbformat_minor": 5
}

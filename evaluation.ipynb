{
 "cells": [
  {
   "cell_type": "code",
   "execution_count": 1,
   "id": "bcbf53eb",
   "metadata": {},
   "outputs": [],
   "source": [
    "import sys \n",
    "sys.path.append(\"source_code/\")\n",
    "\n",
    "import numpy as np\n",
    "from dataLoader import importData\n",
    "from normalization import NormalizedAnomalyDetector\n",
    "from shell_anomaly_detectors import LVAD\n",
    "from evaluation import AnonEvaluationStatistics"
   ]
  },
  {
   "cell_type": "code",
   "execution_count": 2,
   "id": "39f6872b",
   "metadata": {},
   "outputs": [
    {
     "name": "stdout",
     "output_type": "stream",
     "text": [
      "Loading dataset\n",
      "Data-set: MIT-Places-Small\n"
     ]
    }
   ],
   "source": [
    "print('Loading dataset')\n",
    "data_set = 3\n",
    "x_train, y_train, x_test, y_test, dataset_name = importData(data_set)"
   ]
  },
  {
   "cell_type": "code",
   "execution_count": 3,
   "id": "df3fc8b3",
   "metadata": {},
   "outputs": [
    {
     "name": "stdout",
     "output_type": "stream",
     "text": [
      "Evaluation\n",
      "class: 1 / 5 , anon percentage: 0.1 , auroc: 0.981\n",
      "class: 1 / 5 , anon percentage: 1 , auroc: 0.9881249999999999\n",
      "class: 1 / 5 , anon percentage: 10 , auroc: 0.9919700000000001\n",
      "class: 1 / 5 , anon percentage: 20 , auroc: 0.97184125\n",
      "class: 1 / 5 , anon percentage: 30 , auroc: 0.9607116666666667\n",
      "class: 2 / 5 , anon percentage: 0.1 , auroc: 0.9985\n",
      "class: 2 / 5 , anon percentage: 1 , auroc: 0.984925\n",
      "class: 2 / 5 , anon percentage: 10 , auroc: 0.9824075\n",
      "class: 2 / 5 , anon percentage: 20 , auroc: 0.952245\n",
      "class: 2 / 5 , anon percentage: 30 , auroc: 0.9459658333333333\n",
      "class: 3 / 5 , anon percentage: 0.1 , auroc: 0.9612499999999999\n",
      "class: 3 / 5 , anon percentage: 1 , auroc: 0.915675\n",
      "class: 3 / 5 , anon percentage: 10 , auroc: 0.9134374999999999\n",
      "class: 3 / 5 , anon percentage: 20 , auroc: 0.8737625\n"
     ]
    },
    {
     "name": "stderr",
     "output_type": "stream",
     "text": [
      "/home/daniel/Work/anon_final/code_final/shell_anomaly_detectors.py:116: RuntimeWarning: divide by zero encountered in long_scalars\n",
      "  p_noty_div_p_y = mask.size / all_in_clus -1\n"
     ]
    },
    {
     "name": "stdout",
     "output_type": "stream",
     "text": [
      "class: 3 / 5 , anon percentage: 30 , auroc: 0.8613058333333333\n",
      "class: 4 / 5 , anon percentage: 0.1 , auroc: 0.86025\n",
      "class: 4 / 5 , anon percentage: 1 , auroc: 0.8857750000000001\n",
      "class: 4 / 5 , anon percentage: 10 , auroc: 0.7997799999999999\n",
      "class: 4 / 5 , anon percentage: 20 , auroc: 0.7413725\n",
      "class: 4 / 5 , anon percentage: 30 , auroc: 0.7059633333333333\n",
      "class: 5 / 5 , anon percentage: 0.1 , auroc: 0.99475\n",
      "class: 5 / 5 , anon percentage: 1 , auroc: 0.99155\n",
      "class: 5 / 5 , anon percentage: 10 , auroc: 0.9740199999999999\n",
      "class: 5 / 5 , anon percentage: 20 , auroc: 0.96431125\n",
      "class: 5 / 5 , anon percentage: 30 , auroc: 0.8058641666666666\n"
     ]
    }
   ],
   "source": [
    "print('Evaluation')\n",
    "clf = NormalizedAnomalyDetector(LVAD(max_num_clus= 1000))\n",
    "evaluation = AnonEvaluationStatistics()\n",
    "evaluation.eval(x_train, y_train, clf)    "
   ]
  },
  {
   "cell_type": "code",
   "execution_count": 4,
   "id": "f40c5e81",
   "metadata": {},
   "outputs": [
    {
     "name": "stdout",
     "output_type": "stream",
     "text": [
      "(anomaly percentage, auroc)\n",
      "[(0.1, 0.95915), (1, 0.95321), (10, 0.9323229999999999), (20, 0.9007064999999999), (30, 0.8559621666666667)]\n"
     ]
    }
   ],
   "source": [
    "evaluation.display()"
   ]
  },
  {
   "cell_type": "code",
   "execution_count": 5,
   "id": "3ad282ef",
   "metadata": {},
   "outputs": [],
   "source": [
    "# import pickle\n",
    "# store_folder = '../stored_results/'\n",
    "# eval_name = dataset_name + '_LVAD'\n",
    "# store_path = store_folder + '/' + eval_name + '.pickle'\n",
    "# with open(store_path, 'wb') as file:\n",
    "#     pickle.dump(oneClass_eval, file) \n"
   ]
  },
  {
   "cell_type": "code",
   "execution_count": 6,
   "id": "4210d9f8",
   "metadata": {},
   "outputs": [],
   "source": [
    "# with open(store_path, 'rb') as file:\n",
    "#     b = pickle.load(file)"
   ]
  }
 ],
 "metadata": {
  "kernelspec": {
   "display_name": "Python 3 (ipykernel)",
   "language": "python",
   "name": "python3"
  },
  "language_info": {
   "codemirror_mode": {
    "name": "ipython",
    "version": 3
   },
   "file_extension": ".py",
   "mimetype": "text/x-python",
   "name": "python",
   "nbconvert_exporter": "python",
   "pygments_lexer": "ipython3",
   "version": "3.10.4"
  }
 },
 "nbformat": 4,
 "nbformat_minor": 5
}

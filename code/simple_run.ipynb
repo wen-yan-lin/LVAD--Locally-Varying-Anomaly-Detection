{
 "cells": [
  {
   "cell_type": "code",
   "execution_count": null,
   "id": "560afe47",
   "metadata": {},
   "outputs": [],
   "source": [
    "from examples import simple_example\n",
    "\n",
    "simple_example(data_set = 5, interest_class = 0, anomaly_percentage = 10)"
   ]
  },
  {
   "cell_type": "code",
   "execution_count": null,
   "id": "69cafb17",
   "metadata": {},
   "outputs": [],
   "source": [
    "simple_example(data_set = 1, interest_class = 0, anomaly_percentage = 20)"
   ]
  },
  {
   "cell_type": "code",
   "execution_count": null,
   "id": "57a52a98",
   "metadata": {},
   "outputs": [],
   "source": []
  }
 ],
 "metadata": {
  "kernelspec": {
   "display_name": "Python 3 (ipykernel)",
   "language": "python",
   "name": "python3"
  },
  "language_info": {
   "codemirror_mode": {
    "name": "ipython",
    "version": 3
   },
   "file_extension": ".py",
   "mimetype": "text/x-python",
   "name": "python",
   "nbconvert_exporter": "python",
   "pygments_lexer": "ipython3",
   "version": "3.10.4"
  },
  "vscode": {
   "interpreter": {
    "hash": "31f2aee4e71d21fbe5cf8b01ff0e069b9275f58929596ceb00d14d90e3e16cd6"
   }
  }
 },
 "nbformat": 4,
 "nbformat_minor": 5
}

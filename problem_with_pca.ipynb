{
 "cells": [
  {
   "cell_type": "code",
   "execution_count": 9,
   "id": "73c9d76f",
   "metadata": {},
   "outputs": [],
   "source": [
    "from examples import pca_problem"
   ]
  },
  {
   "cell_type": "markdown",
   "id": "cf565bb2",
   "metadata": {},
   "source": [
    "Using PCA to reduce dimensions, causes performance inversion, with the anomaly detector becoming unstable at (easy) low anomaly percentages but stable at (hard) high percentages.\n",
    "In contrast, LVAD degrades gracefully with increasing anomaly percentages."
   ]
  },
  {
   "cell_type": "code",
   "execution_count": 10,
   "id": "2566f97e",
   "metadata": {},
   "outputs": [
    {
     "name": "stdout",
     "output_type": "stream",
     "text": [
      "Low anomaly percentage\n",
      "Data-set: STL-10\n",
      "AUROC of PCA: 0.6161538461538462\n",
      "AUROC of LVAD: 0.9969230769230769\n"
     ]
    }
   ],
   "source": [
    "print('Low anomaly percentage')\n",
    "pca_problem(data_set = 1, interest_class = 0, anomaly_percentage = 0.1)"
   ]
  },
  {
   "cell_type": "code",
   "execution_count": 11,
   "id": "09c1c454",
   "metadata": {},
   "outputs": [
    {
     "name": "stdout",
     "output_type": "stream",
     "text": [
      "High anomaly percentage\n",
      "Data-set: STL-10\n",
      "AUROC of PCA: 0.9987573964497042\n",
      "AUROC of LVAD: 0.9962603550295858\n"
     ]
    }
   ],
   "source": [
    "print('High anomaly percentage')\n",
    "\n",
    "pca_problem(data_set = 1, interest_class = 0, anomaly_percentage = 10)"
   ]
  }
 ],
 "metadata": {
  "kernelspec": {
   "display_name": "Python 3 (ipykernel)",
   "language": "python",
   "name": "python3"
  },
  "language_info": {
   "codemirror_mode": {
    "name": "ipython",
    "version": 3
   },
   "file_extension": ".py",
   "mimetype": "text/x-python",
   "name": "python",
   "nbconvert_exporter": "python",
   "pygments_lexer": "ipython3",
   "version": "3.10.4"
  }
 },
 "nbformat": 4,
 "nbformat_minor": 5
}

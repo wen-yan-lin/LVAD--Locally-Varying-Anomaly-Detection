{
 "cells": [
  {
   "cell_type": "code",
   "execution_count": null,
   "id": "73c9d76f",
   "metadata": {},
   "outputs": [
    {
     "name": "stderr",
     "output_type": "stream",
     "text": [
      "2022-07-22 20:36:03.052104: I tensorflow/stream_executor/cuda/cuda_gpu_executor.cc:936] successful NUMA node read from SysFS had negative value (-1), but there must be at least one NUMA node, so returning NUMA node zero\n",
      "2022-07-22 20:36:03.057137: I tensorflow/stream_executor/cuda/cuda_gpu_executor.cc:936] successful NUMA node read from SysFS had negative value (-1), but there must be at least one NUMA node, so returning NUMA node zero\n",
      "2022-07-22 20:36:03.057422: I tensorflow/stream_executor/cuda/cuda_gpu_executor.cc:936] successful NUMA node read from SysFS had negative value (-1), but there must be at least one NUMA node, so returning NUMA node zero\n",
      "2022-07-22 20:36:03.058292: I tensorflow/core/platform/cpu_feature_guard.cc:151] This TensorFlow binary is optimized with oneAPI Deep Neural Network Library (oneDNN) to use the following CPU instructions in performance-critical operations:  AVX2 FMA\n",
      "To enable them in other operations, rebuild TensorFlow with the appropriate compiler flags.\n",
      "2022-07-22 20:36:03.058805: I tensorflow/stream_executor/cuda/cuda_gpu_executor.cc:936] successful NUMA node read from SysFS had negative value (-1), but there must be at least one NUMA node, so returning NUMA node zero\n",
      "2022-07-22 20:36:03.059029: I tensorflow/stream_executor/cuda/cuda_gpu_executor.cc:936] successful NUMA node read from SysFS had negative value (-1), but there must be at least one NUMA node, so returning NUMA node zero\n",
      "2022-07-22 20:36:03.059233: I tensorflow/stream_executor/cuda/cuda_gpu_executor.cc:936] successful NUMA node read from SysFS had negative value (-1), but there must be at least one NUMA node, so returning NUMA node zero\n",
      "2022-07-22 20:36:03.251458: I tensorflow/stream_executor/cuda/cuda_gpu_executor.cc:936] successful NUMA node read from SysFS had negative value (-1), but there must be at least one NUMA node, so returning NUMA node zero\n",
      "2022-07-22 20:36:03.251679: I tensorflow/stream_executor/cuda/cuda_gpu_executor.cc:936] successful NUMA node read from SysFS had negative value (-1), but there must be at least one NUMA node, so returning NUMA node zero\n",
      "2022-07-22 20:36:03.251886: I tensorflow/stream_executor/cuda/cuda_gpu_executor.cc:936] successful NUMA node read from SysFS had negative value (-1), but there must be at least one NUMA node, so returning NUMA node zero\n",
      "2022-07-22 20:36:03.252128: I tensorflow/core/common_runtime/gpu/gpu_device.cc:1525] Created device /job:localhost/replica:0/task:0/device:GPU:0 with 16 MB memory:  -> device: 0, name: NVIDIA GeForce RTX 3080 Laptop GPU, pci bus id: 0000:01:00.0, compute capability: 8.6\n",
      "2022-07-22 20:36:03.254811: I tensorflow/stream_executor/cuda/cuda_driver.cc:739] failed to allocate 16.50M (17301504 bytes) from device: CUDA_ERROR_OUT_OF_MEMORY: out of memory\n",
      "2022-07-22 20:36:03.255319: I tensorflow/stream_executor/cuda/cuda_driver.cc:739] failed to allocate 14.85M (15571456 bytes) from device: CUDA_ERROR_OUT_OF_MEMORY: out of memory\n",
      "2022-07-22 20:36:03.255820: I tensorflow/stream_execu"
     ]
    }
   ],
   "source": [
    "import sys \n",
    "sys.path.append(\"source_code/\")\n",
    "\n",
    "from examples import pca_problem"
   ]
  },
  {
   "cell_type": "markdown",
   "id": "cf565bb2",
   "metadata": {},
   "source": [
    "Using PCA to reduce dimensions, causes performance inversion, with the anomaly detector becoming unstable at (easy) low anomaly percentages but stable at (hard) high percentages.\n",
    "In contrast, LVAD degrades gracefully with increasing anomaly percentages."
   ]
  },
  {
   "cell_type": "code",
   "execution_count": 10,
   "id": "2566f97e",
   "metadata": {},
   "outputs": [
    {
     "name": "stdout",
     "output_type": "stream",
     "text": [
      "Low anomaly percentage\n",
      "Data-set: STL-10\n",
      "AUROC of PCA: 0.6161538461538462\n",
      "AUROC of LVAD: 0.9969230769230769\n"
     ]
    }
   ],
   "source": [
    "print('Low anomaly percentage')\n",
    "pca_problem(data_set = 1, interest_class = 0, anomaly_percentage = 0.1)"
   ]
  },
  {
   "cell_type": "code",
   "execution_count": 11,
   "id": "09c1c454",
   "metadata": {},
   "outputs": [
    {
     "name": "stdout",
     "output_type": "stream",
     "text": [
      "High anomaly percentage\n",
      "Data-set: STL-10\n",
      "AUROC of PCA: 0.9987573964497042\n",
      "AUROC of LVAD: 0.9962603550295858\n"
     ]
    }
   ],
   "source": [
    "print('High anomaly percentage')\n",
    "\n",
    "pca_problem(data_set = 1, interest_class = 0, anomaly_percentage = 10)"
   ]
  }
 ],
 "metadata": {
  "kernelspec": {
   "display_name": "Python 3 (ipykernel)",
   "language": "python",
   "name": "python3"
  },
  "language_info": {
   "codemirror_mode": {
    "name": "ipython",
    "version": 3
   },
   "file_extension": ".py",
   "mimetype": "text/x-python",
   "name": "python",
   "nbconvert_exporter": "python",
   "pygments_lexer": "ipython3",
   "version": "3.10.4"
  }
 },
 "nbformat": 4,
 "nbformat_minor": 5
}
